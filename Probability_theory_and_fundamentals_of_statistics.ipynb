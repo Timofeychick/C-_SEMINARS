{
  "nbformat": 4,
  "nbformat_minor": 0,
  "metadata": {
    "colab": {
      "provenance": [],
      "collapsed_sections": [
        "-oW3zbhw9aH_",
        "lcbskraK9mbk",
        "BdntLxSD9sDZ",
        "_AMR-XrE9tD9",
        "Ga3mZE_39tt1",
        "LylkRgET92l6",
        "yv7jm8Ev95wZ",
        "869j0H3n99mj",
        "Vaw2rx2G9--x",
        "oH_GambbMCNW",
        "8qVtzccbMWTO",
        "B06MSmmeMaK8",
        "VbYPTolcMcu0",
        "6QnRyqj8MfAw",
        "WukQDIfWMhV6",
        "ygxcKi8aTOZn",
        "zjZoqTtqTUYW",
        "EZq5NoIMTZt5",
        "cIcPhwFoTbsO",
        "2toPJUBpTeFy",
        "xqR6bwxzTgps"
      ],
      "include_colab_link": true
    },
    "kernelspec": {
      "name": "python3",
      "display_name": "Python 3"
    },
    "language_info": {
      "name": "python"
    }
  },
  "cells": [
    {
      "cell_type": "markdown",
      "metadata": {
        "id": "view-in-github",
        "colab_type": "text"
      },
      "source": [
        "<a href=\"https://colab.research.google.com/github/Timofeychick/CS_SEMINARS/blob/main/Probability_theory_and_fundamentals_of_statistics.ipynb\" target=\"_parent\"><img src=\"https://colab.research.google.com/assets/colab-badge.svg\" alt=\"Open In Colab\"/></a>"
      ]
    },
    {
      "cell_type": "markdown",
      "source": [
        "#**3.\tТеория вероятностей и основы статистики**"
      ],
      "metadata": {
        "id": "-oW3zbhw9aH_"
      }
    },
    {
      "cell_type": "markdown",
      "source": [
        "##3.1.\tДискретные случайные величины"
      ],
      "metadata": {
        "id": "lcbskraK9mbk"
      }
    },
    {
      "cell_type": "markdown",
      "source": [
        "###3.1.1.\tИсход, событие, вероятность\n"
      ],
      "metadata": {
        "id": "BdntLxSD9sDZ"
      }
    },
    {
      "cell_type": "markdown",
      "source": [
        "Задание: Напишите программу на Python для расчета вероятности события. Вам дано пространство элементарных исходов при броске кубика (1, 2, 3, 4, 5, 6) и событие - выпадение четных чисел (2, 4, 6). Рассчитайте вероятность выпадения четного числа."
      ],
      "metadata": {
        "id": "DicZjaYWAzfh"
      }
    },
    {
      "cell_type": "code",
      "source": [
        "def probability(event_outcomes, sample_space):\n",
        "    return len(event_outcomes) / len(sample_space)\n",
        "\n",
        "\n",
        "sample_space = [1, 2, 3, 4, 5, 6]\n",
        "event_outcomes = [2, 4, 6]\n",
        "\n",
        "result = probability(event_outcomes, sample_space)\n",
        "print(f\"Вероятность события: {result}\")"
      ],
      "metadata": {
        "colab": {
          "base_uri": "https://localhost:8080/"
        },
        "id": "p5CChNL1Am0m",
        "outputId": "40466c1a-c360-4951-fe9c-ca8bfb67b432"
      },
      "execution_count": null,
      "outputs": [
        {
          "output_type": "stream",
          "name": "stdout",
          "text": [
            "Вероятность события: 0.5\n"
          ]
        }
      ]
    },
    {
      "cell_type": "markdown",
      "source": [
        "###3.1.2.\tДискретные случайные величины и их свойства"
      ],
      "metadata": {
        "id": "_AMR-XrE9tD9"
      }
    },
    {
      "cell_type": "markdown",
      "source": [
        "Задание: Напишите программу на Python для определения дискретной случайной величины и вычисления ее математического ожидания и дисперсии. Сгенерируйте случайную выборку из 100 случайных чисел."
      ],
      "metadata": {
        "id": "cLzknHAGBBGB"
      }
    },
    {
      "cell_type": "code",
      "source": [
        "import random"
      ],
      "metadata": {
        "id": "pDy34yLoNvzd"
      },
      "execution_count": null,
      "outputs": []
    },
    {
      "cell_type": "code",
      "source": [
        "random_values = [random.randint(1, 6) for _ in range(100)]\n",
        "\n",
        "mean = sum(random_values) / len(random_values)\n",
        "\n",
        "variance = sum((x - mean) ** 2 for x in random_values) / len(random_values)\n",
        "\n",
        "print(f\"Случайная выборка: {random_values}\")\n",
        "print(f\"Математическое ожидание: {mean}\")\n",
        "print(f\"Дисперсия: {variance}\")"
      ],
      "metadata": {
        "colab": {
          "base_uri": "https://localhost:8080/"
        },
        "id": "v9fS3-oqBCli",
        "outputId": "66b33b5a-61db-4084-e94f-8afa75a2b15c"
      },
      "execution_count": null,
      "outputs": [
        {
          "output_type": "stream",
          "name": "stdout",
          "text": [
            "Случайная выборка: [1, 6, 1, 6, 2, 2, 5, 4, 5, 4, 6, 3, 6, 4, 1, 5, 3, 4, 6, 3, 5, 1, 5, 2, 2, 3, 6, 4, 6, 6, 5, 3, 6, 4, 3, 4, 1, 5, 1, 1, 2, 4, 5, 1, 4, 2, 3, 1, 3, 4, 4, 1, 4, 5, 1, 5, 1, 3, 5, 3, 5, 6, 5, 6, 4, 5, 5, 4, 2, 5, 3, 5, 1, 1, 1, 5, 4, 3, 1, 6, 5, 5, 3, 1, 5, 6, 3, 5, 6, 5, 5, 4, 5, 3, 3, 1, 4, 2, 4, 2]\n",
            "Математическое ожидание: 3.65\n",
            "Дисперсия: 2.827500000000001\n"
          ]
        }
      ]
    },
    {
      "cell_type": "markdown",
      "source": [
        "###3.1.3.\tДискретные распределения\n"
      ],
      "metadata": {
        "id": "Ga3mZE_39tt1"
      }
    },
    {
      "cell_type": "markdown",
      "source": [
        "Задание: Напишите программу на Python для генерации и визуализации биномиального распределения. Вам даны параметры n (количество испытаний) и p (вероятность успеха в одном испытании). Сгенерируйте и визуализируйте биномиальное распределение для n=10 и p=0.3."
      ],
      "metadata": {
        "id": "_Dz8R2boBCKd"
      }
    },
    {
      "cell_type": "code",
      "source": [],
      "metadata": {
        "id": "nrSEhisKQhfd"
      },
      "execution_count": null,
      "outputs": []
    },
    {
      "cell_type": "code",
      "source": [
        "import matplotlib.pyplot as plt\n",
        "from scipy.stats import binom\n",
        "\n",
        "n = 10\n",
        "p = 0.3\n",
        "\n",
        "x = range(n + 1)\n",
        "y = [binom.pmf(k, n, p) for k in x]\n",
        "\n",
        "plt.bar(x, y)\n",
        "plt.xlabel('Количество успехов')\n",
        "plt.ylabel('Вероятность')\n",
        "plt.title('Биномиальное распределение')\n",
        "plt.show()"
      ],
      "metadata": {
        "colab": {
          "base_uri": "https://localhost:8080/",
          "height": 472
        },
        "id": "jjQfgV_FBF6i",
        "outputId": "485e5fe3-f2c5-4db9-b3fd-fa3c5c825261"
      },
      "execution_count": null,
      "outputs": [
        {
          "output_type": "display_data",
          "data": {
            "text/plain": [
              "<Figure size 640x480 with 1 Axes>"
            ],
            "image/png": "[encoded data removed]"
          },
          "metadata": {}
        }
      ]
    },
    {
      "cell_type": "code",
      "source": [
        "y"
      ],
      "metadata": {
        "colab": {
          "base_uri": "https://localhost:8080/"
        },
        "id": "V4ywyR3QQ6aV",
        "outputId": "0fc25438-77fb-40be-cf6c-2bc018500cb6"
      },
      "execution_count": null,
      "outputs": [
        {
          "output_type": "execute_result",
          "data": {
            "text/plain": [
              "[0.0282475249,\n",
              " 0.12106082099999989,\n",
              " 0.2334744405000001,\n",
              " 0.26682793199999977,\n",
              " 0.2001209489999999,\n",
              " 0.10291934519999989,\n",
              " 0.036756908999999956,\n",
              " 0.009001691999999992,\n",
              " 0.0014467004999999982,\n",
              " 0.00013778099999999988,\n",
              " 5.9048999999999975e-06]"
            ]
          },
          "metadata": {},
          "execution_count": 17
        }
      ]
    },
    {
      "cell_type": "code",
      "source": [
        "import matplotlib.pyplot as plt\n",
        "\n",
        "def fac(n):\n",
        "  if n == 0 or n == 1:\n",
        "      return 1\n",
        "  return fac(n - 1) * n\n",
        "\n",
        "n = 10\n",
        "p = 0.3\n",
        "\n",
        "x = range(n + 1)\n",
        "y = [fac(n) / (fac(n - k) * fac(k)) * p**k * (1 - p)**(n-k) for k in x]\n",
        "\n",
        "plt.bar(x, y)\n",
        "plt.xlabel('Количество успехов')\n",
        "plt.ylabel('Вероятность')\n",
        "plt.title('Биномиальное распределение')\n",
        "plt.show()"
      ],
      "metadata": {
        "colab": {
          "base_uri": "https://localhost:8080/",
          "height": 472
        },
        "id": "-2NSLp70DInS",
        "outputId": "2e602a62-c8e7-47c5-b452-770ece6011c7"
      },
      "execution_count": null,
      "outputs": [
        {
          "output_type": "display_data",
          "data": {
            "text/plain": [
              "<Figure size 640x480 with 1 Axes>"
            ],
            "image/png": "[encoded data removed]"
          },
          "metadata": {}
        }
      ]
    },
    {
      "cell_type": "markdown",
      "source": [
        "###3.1.4.\tСовместное распределение и ковариация\n"
      ],
      "metadata": {
        "id": "LylkRgET92l6"
      }
    },
    {
      "cell_type": "markdown",
      "source": [
        "Задание: Напишите программу на Python для вычисления совместного распределения и ковариации между двумя случайными величинами. Вам даны два случайных вектора X и Y. Вычислите и выведите на экран совместное распределение и ковариацию между X и Y."
      ],
      "metadata": {
        "id": "Y99sLlMcBH3P"
      }
    },
    {
      "cell_type": "code",
      "source": [
        "import numpy as np\n",
        "\n",
        "X = np.array([1, 2, 3, 4, 5])\n",
        "Y = np.array([2, 4, 6, 8, 10])\n",
        "\n",
        "joint_distribution = np.outer(X, Y)\n",
        "\n",
        "covariance = np.cov(X, Y)[0, 1]\n",
        "\n",
        "print(f\"Совместное распределение:\\n{joint_distribution}\")\n",
        "print(f\"Ковариация между X и Y: {covariance}\")"
      ],
      "metadata": {
        "colab": {
          "base_uri": "https://localhost:8080/"
        },
        "id": "lIUQ4ateBIel",
        "outputId": "93699577-67ac-41e2-d884-a2036d9ab824"
      },
      "execution_count": null,
      "outputs": [
        {
          "output_type": "stream",
          "name": "stdout",
          "text": [
            "Совместное распределение:\n",
            "[[ 2  4  6  8 10]\n",
            " [ 4  8 12 16 20]\n",
            " [ 6 12 18 24 30]\n",
            " [ 8 16 24 32 40]\n",
            " [10 20 30 40 50]]\n",
            "Ковариация между X и Y: 5.0\n"
          ]
        }
      ]
    },
    {
      "cell_type": "code",
      "source": [
        "np.cov(X, Y)"
      ],
      "metadata": {
        "colab": {
          "base_uri": "https://localhost:8080/"
        },
        "id": "jLW6VFf0VUu4",
        "outputId": "a3fd8c6d-a410-4eb0-8601-dcc78ebe6564"
      },
      "execution_count": null,
      "outputs": [
        {
          "output_type": "execute_result",
          "data": {
            "text/plain": [
              "array([[ 2.5,  5. ],\n",
              "       [ 5. , 10. ]])"
            ]
          },
          "metadata": {},
          "execution_count": 30
        }
      ]
    },
    {
      "cell_type": "code",
      "source": [
        "X = [1, 2, 3, 4, 5]\n",
        "Y = [2, 4, 6, 8, 10]\n",
        "\n",
        "joint_distribution = [[x * y for y in Y] for x in X]\n",
        "\n",
        "mean_x = sum(X) / len(X)\n",
        "mean_y = sum(Y) / len(Y)\n",
        "\n",
        "covariance = sum((X[i] - mean_x) * (Y[i] - mean_y) for i in range(len(X)))  / (len(X) - 1)\n",
        "\n",
        "print(f\"Совместное распределение:\")\n",
        "for row in joint_distribution:\n",
        "  print(row)\n",
        "\n",
        "print(f\"Ковариация между X и Y: {covariance}\")"
      ],
      "metadata": {
        "colab": {
          "base_uri": "https://localhost:8080/"
        },
        "id": "3lR36G7eJa_R",
        "outputId": "a7d4256c-abc8-4614-c7a9-a9ea638dbe91"
      },
      "execution_count": null,
      "outputs": [
        {
          "output_type": "stream",
          "name": "stdout",
          "text": [
            "Совместное распределение:\n",
            "[2, 4, 6, 8, 10]\n",
            "[4, 8, 12, 16, 20]\n",
            "[6, 12, 18, 24, 30]\n",
            "[8, 16, 24, 32, 40]\n",
            "[10, 20, 30, 40, 50]\n",
            "Ковариация между X и Y: 5.0\n"
          ]
        }
      ]
    },
    {
      "cell_type": "code",
      "source": [
        "joint_distribution"
      ],
      "metadata": {
        "colab": {
          "base_uri": "https://localhost:8080/"
        },
        "id": "Q6ZNpB8EYrxl",
        "outputId": "63718093-c04f-4025-e9e1-c46e3b00ee79"
      },
      "execution_count": null,
      "outputs": [
        {
          "output_type": "execute_result",
          "data": {
            "text/plain": [
              "[[2, 4, 6, 8, 10],\n",
              " [4, 8, 12, 16, 20],\n",
              " [6, 12, 18, 24, 30],\n",
              " [8, 16, 24, 32, 40],\n",
              " [10, 20, 30, 40, 50]]"
            ]
          },
          "metadata": {},
          "execution_count": 34
        }
      ]
    },
    {
      "cell_type": "markdown",
      "source": [
        "###3.1.5.\tУсловная вероятность, теорема *Байеса*"
      ],
      "metadata": {
        "id": "yv7jm8Ev95wZ"
      }
    },
    {
      "cell_type": "markdown",
      "source": [
        "Задание: Напишите программу на Python для вычисления условной вероятности и примените теорему Байеса. Вам даны вероятности: P(болезнь) = 0.01, P(положительный тест|болезнь) = 0.9, P(положительный тест|здоров) = 0.1. Вычислите вероятность болезни при положительном результате теста."
      ],
      "metadata": {
        "id": "RdXciGiFBLL-"
      }
    },
    {
      "cell_type": "code",
      "source": [
        "# def conditional_probability(A, B):\n",
        "#     return (A.intersection(B)) / len(B)\n",
        "\n",
        "P_Disease = 0.01\n",
        "P_Positive_given_Disease = 0.9\n",
        "P_Positive_given_NoDisease = 0.1\n",
        "\n",
        "P_Positive = P_Disease * P_Positive_given_Disease + (1 - P_Disease) * P_Positive_given_NoDisease\n",
        "P_Disease_given_Positive = (P_Disease * P_Positive_given_Disease) / P_Positive\n",
        "\n",
        "print(f\"Вероятность положительного теста: {P_Positive}\")\n",
        "print(f\"Вероятность болезни при положительном тесте: {P_Disease_given_Positive}\")"
      ],
      "metadata": {
        "colab": {
          "base_uri": "https://localhost:8080/"
        },
        "id": "31zU7tP9BL9U",
        "outputId": "0e2458b7-e338-4454-a1a3-fe9f540e8027"
      },
      "execution_count": null,
      "outputs": [
        {
          "output_type": "stream",
          "name": "stdout",
          "text": [
            "Вероятность положительного теста: 0.10800000000000001\n",
            "Вероятность болезни при положительном тесте: 0.08333333333333333\n"
          ]
        }
      ]
    },
    {
      "cell_type": "markdown",
      "source": [
        "###3.1.6.\tВыборочный метод, базовая визуализация данных\n"
      ],
      "metadata": {
        "id": "869j0H3n99mj"
      }
    },
    {
      "cell_type": "markdown",
      "source": [
        "Задание: Напишите программу на Python для анализа случайной выборки данных и построения гистограммы. Сгенерируйте случайную выборку из нормального распределения (среднее = 0, стандартное отклонение = 1) из 1000 значений. Вычислите среднее, стандартное отклонение и медиану выборки, а затем постройте гистограмму."
      ],
      "metadata": {
        "id": "SGp_ah4-BOCv"
      }
    },
    {
      "cell_type": "code",
      "source": [
        "import numpy as np\n",
        "import matplotlib.pyplot as plt\n",
        "\n",
        "data = np.random.normal(0, 1, 1000)\n",
        "\n",
        "mean = np.mean(data)\n",
        "std_dev = np.std(data)\n",
        "median = np.median(data)\n",
        "\n",
        "plt.hist(data, bins=30, density=True, alpha=0.5, color='b')\n",
        "plt.xlabel('Значение')\n",
        "plt.ylabel('Плотность')\n",
        "plt.title('Гистограмма выборки')\n",
        "plt.grid(True)\n",
        "\n",
        "print(f\"Среднее: {mean}\")\n",
        "print(f\"Стандартное отклонение: {std_dev}\")\n",
        "print(f\"Медиана: {median}\")\n",
        "\n",
        "plt.show()"
      ],
      "metadata": {
        "colab": {
          "base_uri": "https://localhost:8080/",
          "height": 524
        },
        "id": "7ar3Qj_PBOsn",
        "outputId": "56b41147-6621-42db-f145-60c728c417a5"
      },
      "execution_count": null,
      "outputs": [
        {
          "output_type": "stream",
          "name": "stdout",
          "text": [
            "Среднее: 0.04591156451609913\n",
            "Стандартное отклонение: 1.0141900088344307\n",
            "Медиана: 0.06885598018813277\n"
          ]
        },
        {
          "output_type": "display_data",
          "data": {
            "text/plain": [
              "<Figure size 640x480 with 1 Axes>"
            ],
            "image/png": "[encoded data removed]"
          },
          "metadata": {}
        }
      ]
    },
    {
      "cell_type": "code",
      "source": [
        "import random\n",
        "import matplotlib.pyplot as plt\n",
        "\n",
        "data = [random.normalvariate(0, 1) for _ in range(1000)]\n",
        "\n",
        "mean = sum(data) / len(data)\n",
        "\n",
        "squared_deviations = [(x - mean) ** 2 for x in data]\n",
        "variance = sum(squared_deviations) / (len(data) - 1)\n",
        "std_dev = variance ** 0.5\n",
        "\n",
        "sorted_data = sorted(data)\n",
        "middle = len(data) // 2\n",
        "if len(data) % 2 == 0:\n",
        "    median = (sorted_data[middle - 1] + sorted_data[middle]) / 2\n",
        "else:\n",
        "    median = sorted_data[middle]\n",
        "\n",
        "plt.hist(data, bins=30, density=True, alpha=0.5, color='b')\n",
        "plt.xlabel('Значение')\n",
        "plt.ylabel('Плотность')\n",
        "plt.title('Гистограмма выборки')\n",
        "plt.grid(True)\n",
        "\n",
        "print(f\"Среднее: {mean}\")\n",
        "print(f\"Стандартное отклонение: {std_dev}\")\n",
        "print(f\"Медиана: {median}\")\n",
        "\n",
        "plt.show()"
      ],
      "metadata": {
        "colab": {
          "base_uri": "https://localhost:8080/",
          "height": 524
        },
        "id": "QoXhzleZKmIM",
        "outputId": "70faacf6-3798-40d4-d41a-cc0bbcb77584"
      },
      "execution_count": null,
      "outputs": [
        {
          "output_type": "stream",
          "name": "stdout",
          "text": [
            "Среднее: 0.046848365614132366\n",
            "Стандартное отклонение: 0.961389135678751\n",
            "Медиана: 0.03453804990106847\n"
          ]
        },
        {
          "output_type": "display_data",
          "data": {
            "text/plain": [
              "<Figure size 640x480 with 1 Axes>"
            ],
            "image/png": "[encoded data removed]"
          },
          "metadata": {}
        }
      ]
    },
    {
      "cell_type": "markdown",
      "source": [
        "###3.1.7.\tОсновные описательные статистики\n"
      ],
      "metadata": {
        "id": "Vaw2rx2G9--x"
      }
    },
    {
      "cell_type": "markdown",
      "source": [
        "Задание: Напишите программу на Python для вычисления основных описательных статистик для случайной выборки данных. Сгенерируйте случайную выборку из нормального распределения (среднее = 0, стандартное отклонение = 1) из 1000 значений и вычислите среднее, стандартное отклонение, медиану, минимальное и максимальное значения выборки."
      ],
      "metadata": {
        "id": "RkThwSXgBQxv"
      }
    },
    {
      "cell_type": "code",
      "source": [
        "import numpy as np\n",
        "\n",
        "data = np.random.normal(0, 1, 1000)\n",
        "\n",
        "mean = np.mean(data)\n",
        "std_dev = np.std(data)\n",
        "median = np.median(data)\n",
        "min_val = np.min(data)\n",
        "max_val = np.max(data)\n",
        "\n",
        "print(f\"Среднее: {mean}\")\n",
        "print(f\"Стандартное отклонение: {std_dev}\")\n",
        "print(f\"Медиана: {median}\")\n",
        "print(f\"Минимальное значение: {min_val}\")\n",
        "print(f\"Максимальное значение: {max_val}\")"
      ],
      "metadata": {
        "colab": {
          "base_uri": "https://localhost:8080/"
        },
        "id": "cUAK9wcl9hGX",
        "outputId": "b98f2f29-210c-414f-837f-93dc83f5c1d4"
      },
      "execution_count": null,
      "outputs": [
        {
          "output_type": "stream",
          "name": "stdout",
          "text": [
            "Среднее: -0.010554689371392726\n",
            "Стандартное отклонение: 1.0192502054966028\n",
            "Медиана: -0.008327954244135252\n",
            "Минимальное значение: -4.020369073003635\n",
            "Максимальное значение: 3.069838099687127\n"
          ]
        }
      ]
    },
    {
      "cell_type": "code",
      "source": [
        "import random\n",
        "\n",
        "data = [random.normalvariate(0, 1) for _ in range(1000)]\n",
        "\n",
        "mean = sum(data) / len(data)\n",
        "\n",
        "squared_deviations = [(x - mean) ** 2 for x in data]\n",
        "variance = sum(squared_deviations) / (len(data) - 1)\n",
        "std_dev = variance ** 0.5\n",
        "\n",
        "sorted_data = sorted(data)\n",
        "middle = len(data) // 2\n",
        "if len(data) % 2 == 0:\n",
        "    median = (sorted_data[middle - 1] + sorted_data[middle]) / 2\n",
        "else:\n",
        "    median = sorted_data[middle]\n",
        "\n",
        "min_val = min(data)\n",
        "max_val = max(data)\n",
        "\n",
        "print(f\"Среднее: {mean}\")\n",
        "print(f\"Стандартное отклонение: {std_dev}\")\n",
        "print(f\"Медиана: {median}\")\n",
        "print(f\"Минимальное значение: {min_val}\")\n",
        "print(f\"Максимальное значение: {max_val}\")"
      ],
      "metadata": {
        "colab": {
          "base_uri": "https://localhost:8080/"
        },
        "id": "7bJh335aLSFM",
        "outputId": "9ce58a6c-f46c-49f6-be94-7458db4a3fb9"
      },
      "execution_count": null,
      "outputs": [
        {
          "output_type": "stream",
          "name": "stdout",
          "text": [
            "Среднее: 0.04033440147006932\n",
            "Стандартное отклонение: 1.0137668887388698\n",
            "Медиана: 0.05796142602748243\n",
            "Минимальное значение: -3.2499828546393243\n",
            "Максимальное значение: 3.1396710615518506\n"
          ]
        }
      ]
    },
    {
      "cell_type": "markdown",
      "source": [
        "##3.2.\tНепрерывные случайные величины"
      ],
      "metadata": {
        "id": "oH_GambbMCNW"
      }
    },
    {
      "cell_type": "markdown",
      "source": [
        "###3.2.1.\tНепрерывные случайные величины"
      ],
      "metadata": {
        "id": "8qVtzccbMWTO"
      }
    },
    {
      "cell_type": "markdown",
      "source": [
        "Задача: Напишите программу на Python, которая генерирует случайную выборку из равномерного распределения на интервале [0, 1] и вычисляет среднее значение этой выборки."
      ],
      "metadata": {
        "id": "M-AlQAM-MnIV"
      }
    },
    {
      "cell_type": "code",
      "source": [
        "import random\n",
        "import matplotlib.pyplot as plt\n",
        "\n",
        "sample = [random.uniform(0, 1) for _ in range(1000)]\n",
        "\n",
        "mean = sum(sample) / len(sample)\n",
        "\n",
        "print(f\"Среднее значение выборки: {mean}\")\n",
        "\n",
        "plt.hist(sample, bins=30, density=True, alpha=0.5, color='b')\n",
        "plt.xlabel('Значение')\n",
        "plt.ylabel('Плотность')\n",
        "plt.title('Гистограмма выборки')\n",
        "plt.grid(True)\n",
        "\n",
        "plt.show()\n"
      ],
      "metadata": {
        "colab": {
          "base_uri": "https://localhost:8080/",
          "height": 489
        },
        "id": "PSlIphieMqg8",
        "outputId": "db7e0c88-aba0-46f0-ee66-23b9df9494ce"
      },
      "execution_count": null,
      "outputs": [
        {
          "output_type": "stream",
          "name": "stdout",
          "text": [
            "Среднее значение выборки: 0.5062682001794158\n"
          ]
        },
        {
          "output_type": "display_data",
          "data": {
            "text/plain": [
              "<Figure size 640x480 with 1 Axes>"
            ],
            "image/png": "[encoded data removed]"
          },
          "metadata": {}
        }
      ]
    },
    {
      "cell_type": "markdown",
      "source": [
        "###3.2.2.\tНормальное распределение и ЦПТ"
      ],
      "metadata": {
        "id": "B06MSmmeMaK8"
      }
    },
    {
      "cell_type": "markdown",
      "source": [
        "Задача: Напишите программу на Python, которая генерирует выборку из нормального распределения с параметрами mu=0 и sigma=1 и проверяет, как центральная предельная теорема (ЦПТ) работает на практике, увеличивая размер выборки."
      ],
      "metadata": {
        "id": "NWRzvJ67NBta"
      }
    },
    {
      "cell_type": "code",
      "source": [
        "import random\n",
        "import matplotlib.pyplot as plt\n",
        "\n",
        "sample_sizes = [10, 50, 100, 500, 1000]\n",
        "\n",
        "for size in sample_sizes:\n",
        "    sample = [random.normalvariate(0, 1) for _ in range(size)]\n",
        "    mean = sum(sample) / size\n",
        "\n",
        "    plt.hist(sample, bins=30, density=True, alpha=0.5, label=f'n={size}')\n",
        "\n",
        "plt.xlabel('Значение')\n",
        "plt.ylabel('Плотность')\n",
        "plt.title('Распределение выборки из нормального распределения')\n",
        "plt.legend()\n",
        "plt.grid(True)\n",
        "plt.show()"
      ],
      "metadata": {
        "colab": {
          "base_uri": "https://localhost:8080/",
          "height": 472
        },
        "id": "V9bL6tMUNCTx",
        "outputId": "86aaaeda-755a-4836-f43a-1727b57053e9"
      },
      "execution_count": null,
      "outputs": [
        {
          "output_type": "display_data",
          "data": {
            "text/plain": [
              "<Figure size 640x480 with 1 Axes>"
            ],
            "image/png": "[encoded data removed]"
          },
          "metadata": {}
        }
      ]
    },
    {
      "cell_type": "markdown",
      "source": [
        "###3.2.3.\tСовместное распределение, связь величин, корреляция\n"
      ],
      "metadata": {
        "id": "VbYPTolcMcu0"
      }
    },
    {
      "cell_type": "markdown",
      "source": [
        "Задача: Напишите программу на Python, которая генерирует две случайные выборки из нормального распределения и вычисляет корреляцию между этими выборками."
      ],
      "metadata": {
        "id": "7-PielkDOw48"
      }
    },
    {
      "cell_type": "code",
      "source": [
        "import random\n",
        "import numpy as np\n",
        "\n",
        "sample1 = [random.normalvariate(0, 1) for _ in range(100)]\n",
        "sample2 = [random.normalvariate(0, 1) for _ in range(100)]\n",
        "\n",
        "correlation = np.corrcoef(sample1, sample2)[0, 1]\n",
        "\n",
        "print(f\"Корреляция между выборками: {correlation}\")\n"
      ],
      "metadata": {
        "colab": {
          "base_uri": "https://localhost:8080/"
        },
        "id": "ws23mTk1Oxdw",
        "outputId": "e71e3e82-8ebd-484a-f2ff-6c02ceeaac9f"
      },
      "execution_count": null,
      "outputs": [
        {
          "output_type": "stream",
          "name": "stdout",
          "text": [
            "Корреляция между выборками: -0.019191918983308673\n"
          ]
        }
      ]
    },
    {
      "cell_type": "code",
      "source": [
        "import random\n",
        "\n",
        "sample1 = [random.normalvariate(0, 1) for _ in range(100)]\n",
        "sample2 = [random.normalvariate(0, 1) for _ in range(100)]\n",
        "\n",
        "mean1 = sum(sample1) / len(sample1)\n",
        "mean2 = sum(sample2) / len(sample2)\n",
        "\n",
        "covariance = sum((sample1[i] - mean1) * (sample2[i] - mean2) for i in range(100)) / (len(sample1) - 1)\n",
        "\n",
        "std_dev1 = (sum((x - mean1) ** 2 for x in sample1) / (len(sample1) - 1)) ** 0.5\n",
        "std_dev2 = (sum((x - mean2) ** 2 for x in sample2) / (len(sample2) - 1)) ** 0.5\n",
        "\n",
        "correlation = covariance / (std_dev1 * std_dev2)\n",
        "\n",
        "print(f\"Корреляция между выборками: {correlation}\")\n"
      ],
      "metadata": {
        "colab": {
          "base_uri": "https://localhost:8080/"
        },
        "id": "1rgIXVmPPQSm",
        "outputId": "9bfe6660-6da5-4be8-b12c-9927bca842d7"
      },
      "execution_count": null,
      "outputs": [
        {
          "output_type": "stream",
          "name": "stdout",
          "text": [
            "Корреляция между выборками: -0.08166377073215145\n"
          ]
        }
      ]
    },
    {
      "cell_type": "markdown",
      "source": [
        "###3.2.4.\tУсловная вероятность и теорема Байеса для непрерывных величин\n"
      ],
      "metadata": {
        "id": "6QnRyqj8MfAw"
      }
    },
    {
      "cell_type": "markdown",
      "source": [
        "Задача: Напишите программу на Python, которая вычисляет условную вероятность и применяет теорему Байеса. Вам даны вероятности: P(A) = 0.3, P(B|A) = 0.4, P(B|¬A) = 0.2. Вычислите вероятность события B при условии A."
      ],
      "metadata": {
        "id": "Ke5NOTU0Psa1"
      }
    },
    {
      "cell_type": "code",
      "source": [
        "P_A = 0.3\n",
        "P_B_given_A = 0.4\n",
        "P_B_given_not_A = 0.2\n",
        "\n",
        "P_B_given_A_and_A = P_A * P_B_given_A\n",
        "P_B_given_A_and_not_A = (1 - P_A) * P_B_given_not_A\n",
        "P_B = P_B_given_A_and_A + P_B_given_A_and_not_A\n",
        "\n",
        "P_A_given_B = P_B_given_A_and_A / P_B\n",
        "\n",
        "print(f\"Вероятность события B при условии A: {P_A_given_B}\")"
      ],
      "metadata": {
        "colab": {
          "base_uri": "https://localhost:8080/"
        },
        "id": "dgRYAuekPtyE",
        "outputId": "b9b10a8d-501e-49b3-be15-d87a7b8ea5df"
      },
      "execution_count": null,
      "outputs": [
        {
          "output_type": "stream",
          "name": "stdout",
          "text": [
            "Вероятность события B при условии A: 0.4615384615384615\n"
          ]
        }
      ]
    },
    {
      "cell_type": "markdown",
      "source": [
        "###3.2.5.\tГистограммы и описательные статистики для непрерывных величин\n"
      ],
      "metadata": {
        "id": "WukQDIfWMhV6"
      }
    },
    {
      "cell_type": "markdown",
      "source": [
        "Задача: Напишите программу на Python, которая генерирует случайную выборку из экспоненциального распределения и строит гистограмму выборки, а также вычисляет основные описательные статистики."
      ],
      "metadata": {
        "id": "rLHDpGokQCZN"
      }
    },
    {
      "cell_type": "code",
      "source": [
        "import random\n",
        "import matplotlib.pyplot as plt\n",
        "\n",
        "sample = [random.expovariate(1) for _ in range(1000)]\n",
        "\n",
        "mean = sum(sample) / len(sample)\n",
        "std_dev = (sum((x - mean) ** 2 for x in sample) / len(sample)) ** 0.5\n",
        "# median = sorted(sample)[len(sample) // 2]\n",
        "sorted_data = sorted(data)\n",
        "middle = len(data) // 2\n",
        "if len(data) % 2 == 0:\n",
        "    median = (sorted_data[middle - 1] + sorted_data[middle]) / 2\n",
        "else:\n",
        "    median = sorted_data[middle]\n",
        "\n",
        "\n",
        "plt.hist(sample, bins=30, density=True, alpha=0.5, color='b')\n",
        "plt.xlabel('Значение')\n",
        "plt.ylabel('Плотность')\n",
        "plt.title('Гистограмма выборки')\n",
        "plt.grid(True)\n",
        "\n",
        "print(f\"Среднее: {mean}\")\n",
        "print(f\"Стандартное отклонение: {std_dev}\")\n",
        "print(f\"Медиана: {median}\")\n",
        "\n",
        "plt.show()\n"
      ],
      "metadata": {
        "colab": {
          "base_uri": "https://localhost:8080/",
          "height": 524
        },
        "id": "-nguHTQFQC5b",
        "outputId": "1546b219-3a44-4448-f030-444a6f144390"
      },
      "execution_count": null,
      "outputs": [
        {
          "output_type": "stream",
          "name": "stdout",
          "text": [
            "Среднее: 1.0035509763763664\n",
            "Стандартное отклонение: 0.9774696015629034\n",
            "Медиана: 0.05796142602748243\n"
          ]
        },
        {
          "output_type": "display_data",
          "data": {
            "text/plain": [
              "<Figure size 640x480 with 1 Axes>"
            ],
            "image/png": "[encoded data removed]"
          },
          "metadata": {}
        }
      ]
    },
    {
      "cell_type": "markdown",
      "source": [
        "##3.3.\tСтатистическая оценка параметров\n"
      ],
      "metadata": {
        "id": "ygxcKi8aTOZn"
      }
    },
    {
      "cell_type": "markdown",
      "source": [
        "###3.3.1.\tВероятность и правдоподобие\n",
        "\n"
      ],
      "metadata": {
        "id": "zjZoqTtqTUYW"
      }
    },
    {
      "cell_type": "markdown",
      "source": [
        "Задача: Напишите программу на Python, которая вычисляет вероятность события A и его правдоподобие, основываясь на данных о частоте появления события A в выборке."
      ],
      "metadata": {
        "id": "h7pysNTqTlAW"
      }
    },
    {
      "cell_type": "code",
      "source": [
        "total_samples = 1000  # Общее количество выборок\n",
        "event_A_count = 300   # Количество выборок, в которых событие A произошло\n",
        "\n",
        "probability_A = event_A_count / total_samples\n",
        "\n",
        "# Генерация выборки с событием A\n",
        "sample = [1] * event_A_count + [0] * (total_samples - event_A_count)\n",
        "\n",
        "# Вычисление правдоподобия (likelihood) выборки при условии события A\n",
        "likelihood = (probability_A ** event_A_count) * ((1 - probability_A) ** (total_samples - event_A_count))\n",
        "\n",
        "print(f\"Вероятность события A: {probability_A}\")\n",
        "print(f\"Правдоподобие выборки при условии события A: {likelihood}\")"
      ],
      "metadata": {
        "colab": {
          "base_uri": "https://localhost:8080/"
        },
        "id": "PS33JRznTZbb",
        "outputId": "61e20b99-d53b-4a4b-8d96-ba5466abfc07"
      },
      "execution_count": null,
      "outputs": [
        {
          "output_type": "stream",
          "name": "stdout",
          "text": [
            "Вероятность события A: 0.3\n",
            "Правдоподобие выборки при условии события A: 5.069958750239882e-266\n"
          ]
        }
      ]
    },
    {
      "cell_type": "markdown",
      "source": [
        "###3.3.2.\tОценка параметров распределения\n"
      ],
      "metadata": {
        "id": "EZq5NoIMTZt5"
      }
    },
    {
      "cell_type": "markdown",
      "source": [
        "Задача: Напишите программу на Python, которая оценивает параметры распределения (среднее и стандартное отклонение) по выборке данных."
      ],
      "metadata": {
        "id": "DSQenZurTlqV"
      }
    },
    {
      "cell_type": "code",
      "source": [
        "import random\n",
        "\n",
        "data = [random.normalvariate(0, 1) for _ in range(1000)]\n",
        "\n",
        "mean = sum(data) / len(data)\n",
        "std_dev = (sum((x - mean) ** 2 for x in data) / len(data)) ** 0.5\n",
        "\n",
        "print(f\"Оценка среднего значения: {mean}\")\n",
        "print(f\"Оценка стандартного отклонения: {std_dev}\")"
      ],
      "metadata": {
        "colab": {
          "base_uri": "https://localhost:8080/"
        },
        "id": "bXqvSA1cTicI",
        "outputId": "6a7f6a24-c618-4a8f-85f7-abbd44cb36df"
      },
      "execution_count": null,
      "outputs": [
        {
          "output_type": "stream",
          "name": "stdout",
          "text": [
            "Оценка среднего значения: -0.057456203734097856\n",
            "Оценка стандартного отклонения: 0.9789764796388101\n"
          ]
        }
      ]
    },
    {
      "cell_type": "markdown",
      "source": [
        "###3.3.3.\tМетод максимального правдоподобия\n"
      ],
      "metadata": {
        "id": "cIcPhwFoTbsO"
      }
    },
    {
      "cell_type": "markdown",
      "source": [
        "Задача: Напишите программу на Python, которая использует метод максимального правдоподобия для оценки параметров распределения (например, нормального распределения) по выборке данных."
      ],
      "metadata": {
        "id": "IKvXAEhHTmZj"
      }
    },
    {
      "cell_type": "code",
      "source": [
        "import random\n",
        "import numpy as np\n",
        "from scipy.stats import norm\n",
        "from scipy.optimize import minimize\n",
        "\n",
        "def negative_log_likelihood(params):\n",
        "  mu, sigma = params\n",
        "  log_likelihood = sum(norm.logpdf(x, loc=mu, scale=sigma) for x in data)\n",
        "  return -log_likelihood\n",
        "\n",
        "\n",
        "data = [random.normalvariate(0, 1) for _ in range(1000)]\n",
        "\n",
        "initial_guess = [0, 1]\n",
        "\n",
        "result = minimize(negative_log_likelihood, initial_guess, method='Nelder-Mead')\n",
        "estimated_mu, estimated_sigma = result.x\n",
        "\n",
        "print(f\"Оценка среднего значения: {estimated_mu}\")\n",
        "print(f\"Оценка стандартного отклонения: {estimated_sigma}\")"
      ],
      "metadata": {
        "colab": {
          "base_uri": "https://localhost:8080/"
        },
        "id": "7DVtwUCeTjAU",
        "outputId": "3a896412-a485-4abb-8b33-dde67d105208"
      },
      "execution_count": null,
      "outputs": [
        {
          "output_type": "stream",
          "name": "stdout",
          "text": [
            "Оценка среднего значения: -0.03530241771571298\n",
            "Оценка стандартного отклонения: 0.9574012324881822\n"
          ]
        }
      ]
    },
    {
      "cell_type": "code",
      "source": [
        "result"
      ],
      "metadata": {
        "colab": {
          "base_uri": "https://localhost:8080/"
        },
        "id": "bVBiKD2_oRbd",
        "outputId": "fa6458e2-8c56-4cce-eebd-c44ecf8edf73"
      },
      "execution_count": null,
      "outputs": [
        {
          "output_type": "execute_result",
          "data": {
            "text/plain": [
              "       message: Optimization terminated successfully.\n",
              "       success: True\n",
              "        status: 0\n",
              "           fun: 1375.4243597717739\n",
              "             x: [-3.530e-02  9.574e-01]\n",
              "           nit: 39\n",
              "          nfev: 74\n",
              " final_simplex: (array([[-3.530e-02,  9.574e-01],\n",
              "                       [-3.537e-02,  9.574e-01],\n",
              "                       [-3.538e-02,  9.574e-01]]), array([ 1.375e+03,  1.375e+03,  1.375e+03]))"
            ]
          },
          "metadata": {},
          "execution_count": 43
        }
      ]
    },
    {
      "cell_type": "markdown",
      "source": [
        "###3.3.4.\tЛинейная регрессия. Поиск параметров линейной регрессии с вероятностной точки зрения.\n"
      ],
      "metadata": {
        "id": "2toPJUBpTeFy"
      }
    },
    {
      "cell_type": "markdown",
      "source": [
        "Задача: Напишите программу на Python, которая использует метод максимального правдоподобия для нахождения параметров линейной регрессии по данным точкам"
      ],
      "metadata": {
        "id": "yS3FHwTsToBV"
      }
    },
    {
      "cell_type": "code",
      "source": [
        "import random\n",
        "import numpy as np\n",
        "from scipy.optimize import minimize\n",
        "\n",
        "x = np.random.rand(100)\n",
        "y = 2 * x + 1 + np.random.normal(0, 0.5, 100)\n",
        "\n",
        "def linear_regression(params, x):\n",
        "    a, b = params\n",
        "    return a * x + b\n",
        "\n",
        "\n",
        "def negative_log_likelihood(params):\n",
        "    a, b = params\n",
        "    predicted_y = linear_regression((a, b), x)\n",
        "    residuals = y - predicted_y\n",
        "    sigma = np.std(residuals)\n",
        "    log_likelihood = sum(-np.log(np.sqrt(2 * np.pi) * sigma) - (residuals ** 2) / (2 * sigma ** 2))\n",
        "    return -log_likelihood\n",
        "\n",
        "initial_guess = [1, 0]\n",
        "\n",
        "result = minimize(negative_log_likelihood, initial_guess, method='Nelder-Mead')\n",
        "estimated_a, estimated_b = result.x\n",
        "\n",
        "plt.scatter(x, y, label='Данные', alpha=0.7)\n",
        "plt.plot(x, linear_regression((estimated_a, estimated_b), x), color='red', label='Регрессия')\n",
        "plt.xlabel('X')\n",
        "plt.ylabel('Y')\n",
        "plt.legend()\n",
        "plt.grid(True)\n",
        "plt.title('Линейная регрессия с оцененными параметрами')\n",
        "plt.show()\n",
        "\n",
        "print(f\"Оценка коэффициента a: {estimated_a}\")\n",
        "print(f\"Оценка коэффициента b: {estimated_b}\")"
      ],
      "metadata": {
        "colab": {
          "base_uri": "https://localhost:8080/",
          "height": 507
        },
        "id": "RJ3Tsj26Tjbt",
        "outputId": "d03e6e10-34e5-4352-9cc7-f0af632a8fc6"
      },
      "execution_count": null,
      "outputs": [
        {
          "output_type": "display_data",
          "data": {
            "text/plain": [
              "<Figure size 640x480 with 1 Axes>"
            ],
            "image/png": "[encoded data removed]"
          },
          "metadata": {}
        },
        {
          "output_type": "stream",
          "name": "stdout",
          "text": [
            "Оценка коэффициента a: 1.8782535951853225\n",
            "Оценка коэффициента b: 1.078295466840252\n"
          ]
        }
      ]
    },
    {
      "cell_type": "markdown",
      "source": [
        "###3.3.5.\tМетод наименьших квадратов"
      ],
      "metadata": {
        "id": "xqR6bwxzTgps"
      }
    },
    {
      "cell_type": "markdown",
      "source": [
        "Задача: Напишите программу на Python для реализации метода наименьших квадратов (МНК) с использованием линейной регрессии. Дан набор данных, содержащий наблюдения X и соответствующие им значения Y. Ваша задача - оценить коэффициенты регрессии a и b так, чтобы минимизировать сумму квадратов разностей между фактическими и предсказанными значениями Y."
      ],
      "metadata": {
        "id": "78baIQ_4ToaH"
      }
    },
    {
      "cell_type": "code",
      "source": [
        "import numpy as np\n",
        "import matplotlib.pyplot as plt\n",
        "\n",
        "X = np.array([1, 2, 3, 4, 5])\n",
        "Y = np.array([2, 3, 5, 4, 6])\n",
        "\n",
        "def least_squares(X, Y):\n",
        "    n = len(X)\n",
        "    sum_x = sum(X)\n",
        "    sum_y = sum(Y)\n",
        "    sum_x_squared = sum(X ** 2)\n",
        "    sum_xy = sum(X * Y)\n",
        "\n",
        "    a = (n * sum_xy - sum_x * sum_y) / (n * sum_x_squared - sum_x ** 2)\n",
        "    b = (sum_y - a * sum_x) / n\n",
        "\n",
        "    return a, b\n",
        "\n",
        "a, b = least_squares(X, Y)\n",
        "\n",
        "Y_pred = a * X + b\n",
        "\n",
        "plt.scatter(X, Y, label='Данные', color='blue')\n",
        "plt.plot(X, Y_pred, label='Регрессия', color='red')\n",
        "plt.xlabel('X')\n",
        "plt.ylabel('Y')\n",
        "plt.legend()\n",
        "plt.grid(True)\n",
        "plt.title('Линейная регрессия методом наименьших квадратов')\n",
        "plt.show()\n",
        "\n",
        "print(f\"Оценка коэффициента a: {a}\")\n",
        "print(f\"Оценка коэффициента b: {b}\")"
      ],
      "metadata": {
        "colab": {
          "base_uri": "https://localhost:8080/",
          "height": 507
        },
        "id": "IMdZHz0DTkgz",
        "outputId": "6e5b60b1-c17c-4f98-9a19-cfcba17389d8"
      },
      "execution_count": null,
      "outputs": [
        {
          "output_type": "display_data",
          "data": {
            "text/plain": [
              "<Figure size 640x480 with 1 Axes>"
            ],
            "image/png": "[encoded data removed]"
          },
          "metadata": {}
        },
        {
          "output_type": "stream",
          "name": "stdout",
          "text": [
            "Оценка коэффициента a: 0.9\n",
            "Оценка коэффициента b: 1.3\n"
          ]
        }
      ]
    }
  ]
}