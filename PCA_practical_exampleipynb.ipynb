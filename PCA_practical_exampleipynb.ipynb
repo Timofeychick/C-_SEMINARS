{
  "nbformat": 4,
  "nbformat_minor": 0,
  "metadata": {
    "colab": {
      "provenance": [],
      "collapsed_sections": [
        "VMpxpJM-7AgK",
        "Wgz9JbP8MxKO",
        "9JYnyqy57EL_",
        "mDpewnIK8gLm",
        "y3QP_T8l9Jgr",
        "FeKiVqB19zv1",
        "aHSDSBoIMsKP",
        "T_AMyhcsND5u",
        "qSyOj2NgCR1Q",
        "kr4JV1hEDkU3",
        "ant_39xkEXGZ",
        "tCUJM56FEeCb",
        "KBFglGkVNlax"
      ],
      "include_colab_link": true
    },
    "kernelspec": {
      "name": "python3",
      "display_name": "Python 3"
    },
    "language_info": {
      "name": "python"
    }
  },
  "cells": [
    {
      "cell_type": "markdown",
      "metadata": {
        "id": "view-in-github",
        "colab_type": "text"
      },
      "source": [
        "<a href=\"https://colab.research.google.com/github/Timofeychick/CS_SEMINARS/blob/main/PCA_practical_exampleipynb.ipynb\" target=\"_parent\"><img src=\"https://colab.research.google.com/assets/colab-badge.svg\" alt=\"Open In Colab\"/></a>"
      ]
    },
    {
      "cell_type": "markdown",
      "source": [
        "# Загрузка библиотек"
      ],
      "metadata": {
        "id": "VMpxpJM-7AgK"
      }
    },
    {
      "cell_type": "code",
      "execution_count": null,
      "metadata": {
        "id": "b6CDftCLI38_"
      },
      "outputs": [],
      "source": [
        "import pandas as pd\n",
        "import numpy as np\n",
        "import matplotlib.pyplot as plt\n",
        "\n",
        "from numpy.linalg import eig\n",
        "from sklearn.decomposition import PCA"
      ]
    },
    {
      "cell_type": "markdown",
      "source": [
        "# PCA with Pandas"
      ],
      "metadata": {
        "id": "Wgz9JbP8MxKO"
      }
    },
    {
      "cell_type": "markdown",
      "source": [
        "## Импорт данных"
      ],
      "metadata": {
        "id": "9JYnyqy57EL_"
      }
    },
    {
      "cell_type": "code",
      "source": [
        "df = pd.read_excel('/content/data.xlsx', index_col=0)"
      ],
      "metadata": {
        "id": "-0u2H7IlJLZ-"
      },
      "execution_count": null,
      "outputs": []
    },
    {
      "cell_type": "code",
      "source": [
        "df.head(5)"
      ],
      "metadata": {
        "colab": {
          "base_uri": "https://localhost:8080/",
          "height": 206
        },
        "id": "PB-ruh0d6Oy2",
        "outputId": "3ba25cbc-07a5-462d-bef4-d8b14a0eedbe"
      },
      "execution_count": null,
      "outputs": [
        {
          "output_type": "execute_result",
          "data": {
            "text/plain": [
              "     1   2   3     4     5     6\n",
              "1  129  64  95  17.5  11.2  13.8\n",
              "2  154  74  76  20.0  14.2  16.5\n",
              "3  170  87  71  17.9  12.3  15.9\n",
              "4  188  94  73  19.5  13.3  14.8\n",
              "5  161  81  55  17.1  12.1  13.0"
            ],
            "text/html": [
              "\n",
              "  <div id=\"df-1797043f-ea95-4d7d-af74-1c3aad9c1e51\" class=\"colab-df-container\">\n",
              "    <div>\n",
              "<style scoped>\n",
              "    .dataframe tbody tr th:only-of-type {\n",
              "        vertical-align: middle;\n",
              "    }\n",
              "\n",
              "    .dataframe tbody tr th {\n",
              "        vertical-align: top;\n",
              "    }\n",
              "\n",
              "    .dataframe thead th {\n",
              "        text-align: right;\n",
              "    }\n",
              "</style>\n",
              "<table border=\"1\" class=\"dataframe\">\n",
              "  <thead>\n",
              "    <tr style=\"text-align: right;\">\n",
              "      <th></th>\n",
              "      <th>1</th>\n",
              "      <th>2</th>\n",
              "      <th>3</th>\n",
              "      <th>4</th>\n",
              "      <th>5</th>\n",
              "      <th>6</th>\n",
              "    </tr>\n",
              "  </thead>\n",
              "  <tbody>\n",
              "    <tr>\n",
              "      <th>1</th>\n",
              "      <td>129</td>\n",
              "      <td>64</td>\n",
              "      <td>95</td>\n",
              "      <td>17.5</td>\n",
              "      <td>11.2</td>\n",
              "      <td>13.8</td>\n",
              "    </tr>\n",
              "    <tr>\n",
              "      <th>2</th>\n",
              "      <td>154</td>\n",
              "      <td>74</td>\n",
              "      <td>76</td>\n",
              "      <td>20.0</td>\n",
              "      <td>14.2</td>\n",
              "      <td>16.5</td>\n",
              "    </tr>\n",
              "    <tr>\n",
              "      <th>3</th>\n",
              "      <td>170</td>\n",
              "      <td>87</td>\n",
              "      <td>71</td>\n",
              "      <td>17.9</td>\n",
              "      <td>12.3</td>\n",
              "      <td>15.9</td>\n",
              "    </tr>\n",
              "    <tr>\n",
              "      <th>4</th>\n",
              "      <td>188</td>\n",
              "      <td>94</td>\n",
              "      <td>73</td>\n",
              "      <td>19.5</td>\n",
              "      <td>13.3</td>\n",
              "      <td>14.8</td>\n",
              "    </tr>\n",
              "    <tr>\n",
              "      <th>5</th>\n",
              "      <td>161</td>\n",
              "      <td>81</td>\n",
              "      <td>55</td>\n",
              "      <td>17.1</td>\n",
              "      <td>12.1</td>\n",
              "      <td>13.0</td>\n",
              "    </tr>\n",
              "  </tbody>\n",
              "</table>\n",
              "</div>\n",
              "    <div class=\"colab-df-buttons\">\n",
              "\n",
              "  <div class=\"colab-df-container\">\n",
              "    <button class=\"colab-df-convert\" onclick=\"convertToInteractive('df-1797043f-ea95-4d7d-af74-1c3aad9c1e51')\"\n",
              "            title=\"Convert this dataframe to an interactive table.\"\n",
              "            style=\"display:none;\">\n",
              "\n",
              "  <svg xmlns=\"http://www.w3.org/2000/svg\" height=\"24px\" viewBox=\"0 -960 960 960\">\n",
              "    <path d=\"M120-120v-720h720v720H120Zm60-500h600v-160H180v160Zm220 220h160v-160H400v160Zm0 220h160v-160H400v160ZM180-400h160v-160H180v160Zm440 0h160v-160H620v160ZM180-180h160v-160H180v160Zm440 0h160v-160H620v160Z\"/>\n",
              "  </svg>\n",
              "    </button>\n",
              "\n",
              "  <style>\n",
              "    .colab-df-container {\n",
              "      display:flex;\n",
              "      gap: 12px;\n",
              "    }\n",
              "\n",
              "    .colab-df-convert {\n",
              "      background-color: #E8F0FE;\n",
              "      border: none;\n",
              "      border-radius: 50%;\n",
              "      cursor: pointer;\n",
              "      display: none;\n",
              "      fill: #1967D2;\n",
              "      height: 32px;\n",
              "      padding: 0 0 0 0;\n",
              "      width: 32px;\n",
              "    }\n",
              "\n",
              "    .colab-df-convert:hover {\n",
              "      background-color: #E2EBFA;\n",
              "      box-shadow: 0px 1px 2px rgba(60, 64, 67, 0.3), 0px 1px 3px 1px rgba(60, 64, 67, 0.15);\n",
              "      fill: #174EA6;\n",
              "    }\n",
              "\n",
              "    .colab-df-buttons div {\n",
              "      margin-bottom: 4px;\n",
              "    }\n",
              "\n",
              "    [theme=dark] .colab-df-convert {\n",
              "      background-color: #3B4455;\n",
              "      fill: #D2E3FC;\n",
              "    }\n",
              "\n",
              "    [theme=dark] .colab-df-convert:hover {\n",
              "      background-color: #434B5C;\n",
              "      box-shadow: 0px 1px 3px 1px rgba(0, 0, 0, 0.15);\n",
              "      filter: drop-shadow(0px 1px 2px rgba(0, 0, 0, 0.3));\n",
              "      fill: #FFFFFF;\n",
              "    }\n",
              "  </style>\n",
              "\n",
              "    <script>\n",
              "      const buttonEl =\n",
              "        document.querySelector('#df-1797043f-ea95-4d7d-af74-1c3aad9c1e51 button.colab-df-convert');\n",
              "      buttonEl.style.display =\n",
              "        google.colab.kernel.accessAllowed ? 'block' : 'none';\n",
              "\n",
              "      async function convertToInteractive(key) {\n",
              "        const element = document.querySelector('#df-1797043f-ea95-4d7d-af74-1c3aad9c1e51');\n",
              "        const dataTable =\n",
              "          await google.colab.kernel.invokeFunction('convertToInteractive',\n",
              "                                                    [key], {});\n",
              "        if (!dataTable) return;\n",
              "\n",
              "        const docLinkHtml = 'Like what you see? Visit the ' +\n",
              "          '<a target=\"_blank\" href=https://colab.research.google.com/notebooks/data_table.ipynb>data table notebook</a>'\n",
              "          + ' to learn more about interactive tables.';\n",
              "        element.innerHTML = '';\n",
              "        dataTable['output_type'] = 'display_data';\n",
              "        await google.colab.output.renderOutput(dataTable, element);\n",
              "        const docLink = document.createElement('div');\n",
              "        docLink.innerHTML = docLinkHtml;\n",
              "        element.appendChild(docLink);\n",
              "      }\n",
              "    </script>\n",
              "  </div>\n",
              "\n",
              "\n",
              "<div id=\"df-29dbe58b-d91e-41ea-afe2-94d29612f54c\">\n",
              "  <button class=\"colab-df-quickchart\" onclick=\"quickchart('df-29dbe58b-d91e-41ea-afe2-94d29612f54c')\"\n",
              "            title=\"Suggest charts\"\n",
              "            style=\"display:none;\">\n",
              "\n",
              "<svg xmlns=\"http://www.w3.org/2000/svg\" height=\"24px\"viewBox=\"0 0 24 24\"\n",
              "     width=\"24px\">\n",
              "    <g>\n",
              "        <path d=\"M19 3H5c-1.1 0-2 .9-2 2v14c0 1.1.9 2 2 2h14c1.1 0 2-.9 2-2V5c0-1.1-.9-2-2-2zM9 17H7v-7h2v7zm4 0h-2V7h2v10zm4 0h-2v-4h2v4z\"/>\n",
              "    </g>\n",
              "</svg>\n",
              "  </button>\n",
              "\n",
              "<style>\n",
              "  .colab-df-quickchart {\n",
              "      --bg-color: #E8F0FE;\n",
              "      --fill-color: #1967D2;\n",
              "      --hover-bg-color: #E2EBFA;\n",
              "      --hover-fill-color: #174EA6;\n",
              "      --disabled-fill-color: #AAA;\n",
              "      --disabled-bg-color: #DDD;\n",
              "  }\n",
              "\n",
              "  [theme=dark] .colab-df-quickchart {\n",
              "      --bg-color: #3B4455;\n",
              "      --fill-color: #D2E3FC;\n",
              "      --hover-bg-color: #434B5C;\n",
              "      --hover-fill-color: #FFFFFF;\n",
              "      --disabled-bg-color: #3B4455;\n",
              "      --disabled-fill-color: #666;\n",
              "  }\n",
              "\n",
              "  .colab-df-quickchart {\n",
              "    background-color: var(--bg-color);\n",
              "    border: none;\n",
              "    border-radius: 50%;\n",
              "    cursor: pointer;\n",
              "    display: none;\n",
              "    fill: var(--fill-color);\n",
              "    height: 32px;\n",
              "    padding: 0;\n",
              "    width: 32px;\n",
              "  }\n",
              "\n",
              "  .colab-df-quickchart:hover {\n",
              "    background-color: var(--hover-bg-color);\n",
              "    box-shadow: 0 1px 2px rgba(60, 64, 67, 0.3), 0 1px 3px 1px rgba(60, 64, 67, 0.15);\n",
              "    fill: var(--button-hover-fill-color);\n",
              "  }\n",
              "\n",
              "  .colab-df-quickchart-complete:disabled,\n",
              "  .colab-df-quickchart-complete:disabled:hover {\n",
              "    background-color: var(--disabled-bg-color);\n",
              "    fill: var(--disabled-fill-color);\n",
              "    box-shadow: none;\n",
              "  }\n",
              "\n",
              "  .colab-df-spinner {\n",
              "    border: 2px solid var(--fill-color);\n",
              "    border-color: transparent;\n",
              "    border-bottom-color: var(--fill-color);\n",
              "    animation:\n",
              "      spin 1s steps(1) infinite;\n",
              "  }\n",
              "\n",
              "  @keyframes spin {\n",
              "    0% {\n",
              "      border-color: transparent;\n",
              "      border-bottom-color: var(--fill-color);\n",
              "      border-left-color: var(--fill-color);\n",
              "    }\n",
              "    20% {\n",
              "      border-color: transparent;\n",
              "      border-left-color: var(--fill-color);\n",
              "      border-top-color: var(--fill-color);\n",
              "    }\n",
              "    30% {\n",
              "      border-color: transparent;\n",
              "      border-left-color: var(--fill-color);\n",
              "      border-top-color: var(--fill-color);\n",
              "      border-right-color: var(--fill-color);\n",
              "    }\n",
              "    40% {\n",
              "      border-color: transparent;\n",
              "      border-right-color: var(--fill-color);\n",
              "      border-top-color: var(--fill-color);\n",
              "    }\n",
              "    60% {\n",
              "      border-color: transparent;\n",
              "      border-right-color: var(--fill-color);\n",
              "    }\n",
              "    80% {\n",
              "      border-color: transparent;\n",
              "      border-right-color: var(--fill-color);\n",
              "      border-bottom-color: var(--fill-color);\n",
              "    }\n",
              "    90% {\n",
              "      border-color: transparent;\n",
              "      border-bottom-color: var(--fill-color);\n",
              "    }\n",
              "  }\n",
              "</style>\n",
              "\n",
              "  <script>\n",
              "    async function quickchart(key) {\n",
              "      const quickchartButtonEl =\n",
              "        document.querySelector('#' + key + ' button');\n",
              "      quickchartButtonEl.disabled = true;  // To prevent multiple clicks.\n",
              "      quickchartButtonEl.classList.add('colab-df-spinner');\n",
              "      try {\n",
              "        const charts = await google.colab.kernel.invokeFunction(\n",
              "            'suggestCharts', [key], {});\n",
              "      } catch (error) {\n",
              "        console.error('Error during call to suggestCharts:', error);\n",
              "      }\n",
              "      quickchartButtonEl.classList.remove('colab-df-spinner');\n",
              "      quickchartButtonEl.classList.add('colab-df-quickchart-complete');\n",
              "    }\n",
              "    (() => {\n",
              "      let quickchartButtonEl =\n",
              "        document.querySelector('#df-29dbe58b-d91e-41ea-afe2-94d29612f54c button');\n",
              "      quickchartButtonEl.style.display =\n",
              "        google.colab.kernel.accessAllowed ? 'block' : 'none';\n",
              "    })();\n",
              "  </script>\n",
              "</div>\n",
              "    </div>\n",
              "  </div>\n"
            ]
          },
          "metadata": {},
          "execution_count": 3
        }
      ]
    },
    {
      "cell_type": "code",
      "source": [
        "df.shape"
      ],
      "metadata": {
        "colab": {
          "base_uri": "https://localhost:8080/"
        },
        "id": "Fy9f1L9jYbF9",
        "outputId": "fc88e06d-0f9f-49b2-92cf-702213b61cd7"
      },
      "execution_count": null,
      "outputs": [
        {
          "output_type": "execute_result",
          "data": {
            "text/plain": [
              "(43, 6)"
            ]
          },
          "metadata": {},
          "execution_count": 40
        }
      ]
    },
    {
      "cell_type": "code",
      "source": [
        "df.info()"
      ],
      "metadata": {
        "colab": {
          "base_uri": "https://localhost:8080/"
        },
        "id": "OUttvTZqYc-n",
        "outputId": "c76cd142-5805-438f-f950-fe763a9a6bc7"
      },
      "execution_count": null,
      "outputs": [
        {
          "output_type": "stream",
          "name": "stdout",
          "text": [
            "<class 'pandas.core.frame.DataFrame'>\n",
            "Int64Index: 43 entries, 1 to 43\n",
            "Data columns (total 6 columns):\n",
            " #   Column                         Non-Null Count  Dtype  \n",
            "---  ------                         --------------  -----  \n",
            " 0   Длина черпа                    43 non-null     float64\n",
            " 1   Длина верхней челюсти          43 non-null     float64\n",
            " 2   Ширина верхней челюсти         43 non-null     float64\n",
            " 3   Длина верхнего карнивора       43 non-null     float64\n",
            " 4   Длина первого верхнего моляра  43 non-null     float64\n",
            " 5   Ширина верхнего моляра         43 non-null     float64\n",
            "dtypes: float64(6)\n",
            "memory usage: 2.4 KB\n"
          ]
        }
      ]
    },
    {
      "cell_type": "code",
      "source": [
        "columns = ['Длина черпа', 'Длина верхней челюсти', 'Ширина верхней челюсти', 'Длина верхнего карнивора', 'Длина первого верхнего моляра', 'Ширина верхнего моляра']"
      ],
      "metadata": {
        "id": "R6fDUeA56cQE"
      },
      "execution_count": null,
      "outputs": []
    },
    {
      "cell_type": "code",
      "source": [
        "df.columns = columns"
      ],
      "metadata": {
        "id": "dsJR3YzJ7wde"
      },
      "execution_count": null,
      "outputs": []
    },
    {
      "cell_type": "code",
      "source": [
        "df.head()"
      ],
      "metadata": {
        "colab": {
          "base_uri": "https://localhost:8080/",
          "height": 206
        },
        "id": "sydvh5-37_Qt",
        "outputId": "f76aff76-efe9-45ce-d012-70c7860ced4d"
      },
      "execution_count": null,
      "outputs": [
        {
          "output_type": "execute_result",
          "data": {
            "text/plain": [
              "   Длина черпа  Длина верхней челюсти  Ширина верхней челюсти  \\\n",
              "1          129                     64                      95   \n",
              "2          154                     74                      76   \n",
              "3          170                     87                      71   \n",
              "4          188                     94                      73   \n",
              "5          161                     81                      55   \n",
              "\n",
              "   Длина верхнего карнивора  Длина первого верхнего моляра  \\\n",
              "1                      17.5                           11.2   \n",
              "2                      20.0                           14.2   \n",
              "3                      17.9                           12.3   \n",
              "4                      19.5                           13.3   \n",
              "5                      17.1                           12.1   \n",
              "\n",
              "   Ширина верхнего моляра  \n",
              "1                    13.8  \n",
              "2                    16.5  \n",
              "3                    15.9  \n",
              "4                    14.8  \n",
              "5                    13.0  "
            ],
            "text/html": [
              "\n",
              "  <div id=\"df-4ff23efa-ebda-4c0b-be0e-6b6fea7353a3\" class=\"colab-df-container\">\n",
              "    <div>\n",
              "<style scoped>\n",
              "    .dataframe tbody tr th:only-of-type {\n",
              "        vertical-align: middle;\n",
              "    }\n",
              "\n",
              "    .dataframe tbody tr th {\n",
              "        vertical-align: top;\n",
              "    }\n",
              "\n",
              "    .dataframe thead th {\n",
              "        text-align: right;\n",
              "    }\n",
              "</style>\n",
              "<table border=\"1\" class=\"dataframe\">\n",
              "  <thead>\n",
              "    <tr style=\"text-align: right;\">\n",
              "      <th></th>\n",
              "      <th>Длина черпа</th>\n",
              "      <th>Длина верхней челюсти</th>\n",
              "      <th>Ширина верхней челюсти</th>\n",
              "      <th>Длина верхнего карнивора</th>\n",
              "      <th>Длина первого верхнего моляра</th>\n",
              "      <th>Ширина верхнего моляра</th>\n",
              "    </tr>\n",
              "  </thead>\n",
              "  <tbody>\n",
              "    <tr>\n",
              "      <th>1</th>\n",
              "      <td>129</td>\n",
              "      <td>64</td>\n",
              "      <td>95</td>\n",
              "      <td>17.5</td>\n",
              "      <td>11.2</td>\n",
              "      <td>13.8</td>\n",
              "    </tr>\n",
              "    <tr>\n",
              "      <th>2</th>\n",
              "      <td>154</td>\n",
              "      <td>74</td>\n",
              "      <td>76</td>\n",
              "      <td>20.0</td>\n",
              "      <td>14.2</td>\n",
              "      <td>16.5</td>\n",
              "    </tr>\n",
              "    <tr>\n",
              "      <th>3</th>\n",
              "      <td>170</td>\n",
              "      <td>87</td>\n",
              "      <td>71</td>\n",
              "      <td>17.9</td>\n",
              "      <td>12.3</td>\n",
              "      <td>15.9</td>\n",
              "    </tr>\n",
              "    <tr>\n",
              "      <th>4</th>\n",
              "      <td>188</td>\n",
              "      <td>94</td>\n",
              "      <td>73</td>\n",
              "      <td>19.5</td>\n",
              "      <td>13.3</td>\n",
              "      <td>14.8</td>\n",
              "    </tr>\n",
              "    <tr>\n",
              "      <th>5</th>\n",
              "      <td>161</td>\n",
              "      <td>81</td>\n",
              "      <td>55</td>\n",
              "      <td>17.1</td>\n",
              "      <td>12.1</td>\n",
              "      <td>13.0</td>\n",
              "    </tr>\n",
              "  </tbody>\n",
              "</table>\n",
              "</div>\n",
              "    <div class=\"colab-df-buttons\">\n",
              "\n",
              "  <div class=\"colab-df-container\">\n",
              "    <button class=\"colab-df-convert\" onclick=\"convertToInteractive('df-4ff23efa-ebda-4c0b-be0e-6b6fea7353a3')\"\n",
              "            title=\"Convert this dataframe to an interactive table.\"\n",
              "            style=\"display:none;\">\n",
              "\n",
              "  <svg xmlns=\"http://www.w3.org/2000/svg\" height=\"24px\" viewBox=\"0 -960 960 960\">\n",
              "    <path d=\"M120-120v-720h720v720H120Zm60-500h600v-160H180v160Zm220 220h160v-160H400v160Zm0 220h160v-160H400v160ZM180-400h160v-160H180v160Zm440 0h160v-160H620v160ZM180-180h160v-160H180v160Zm440 0h160v-160H620v160Z\"/>\n",
              "  </svg>\n",
              "    </button>\n",
              "\n",
              "  <style>\n",
              "    .colab-df-container {\n",
              "      display:flex;\n",
              "      gap: 12px;\n",
              "    }\n",
              "\n",
              "    .colab-df-convert {\n",
              "      background-color: #E8F0FE;\n",
              "      border: none;\n",
              "      border-radius: 50%;\n",
              "      cursor: pointer;\n",
              "      display: none;\n",
              "      fill: #1967D2;\n",
              "      height: 32px;\n",
              "      padding: 0 0 0 0;\n",
              "      width: 32px;\n",
              "    }\n",
              "\n",
              "    .colab-df-convert:hover {\n",
              "      background-color: #E2EBFA;\n",
              "      box-shadow: 0px 1px 2px rgba(60, 64, 67, 0.3), 0px 1px 3px 1px rgba(60, 64, 67, 0.15);\n",
              "      fill: #174EA6;\n",
              "    }\n",
              "\n",
              "    .colab-df-buttons div {\n",
              "      margin-bottom: 4px;\n",
              "    }\n",
              "\n",
              "    [theme=dark] .colab-df-convert {\n",
              "      background-color: #3B4455;\n",
              "      fill: #D2E3FC;\n",
              "    }\n",
              "\n",
              "    [theme=dark] .colab-df-convert:hover {\n",
              "      background-color: #434B5C;\n",
              "      box-shadow: 0px 1px 3px 1px rgba(0, 0, 0, 0.15);\n",
              "      filter: drop-shadow(0px 1px 2px rgba(0, 0, 0, 0.3));\n",
              "      fill: #FFFFFF;\n",
              "    }\n",
              "  </style>\n",
              "\n",
              "    <script>\n",
              "      const buttonEl =\n",
              "        document.querySelector('#df-4ff23efa-ebda-4c0b-be0e-6b6fea7353a3 button.colab-df-convert');\n",
              "      buttonEl.style.display =\n",
              "        google.colab.kernel.accessAllowed ? 'block' : 'none';\n",
              "\n",
              "      async function convertToInteractive(key) {\n",
              "        const element = document.querySelector('#df-4ff23efa-ebda-4c0b-be0e-6b6fea7353a3');\n",
              "        const dataTable =\n",
              "          await google.colab.kernel.invokeFunction('convertToInteractive',\n",
              "                                                    [key], {});\n",
              "        if (!dataTable) return;\n",
              "\n",
              "        const docLinkHtml = 'Like what you see? Visit the ' +\n",
              "          '<a target=\"_blank\" href=https://colab.research.google.com/notebooks/data_table.ipynb>data table notebook</a>'\n",
              "          + ' to learn more about interactive tables.';\n",
              "        element.innerHTML = '';\n",
              "        dataTable['output_type'] = 'display_data';\n",
              "        await google.colab.output.renderOutput(dataTable, element);\n",
              "        const docLink = document.createElement('div');\n",
              "        docLink.innerHTML = docLinkHtml;\n",
              "        element.appendChild(docLink);\n",
              "      }\n",
              "    </script>\n",
              "  </div>\n",
              "\n",
              "\n",
              "<div id=\"df-f461a62f-d181-4dfb-b0ae-796de3808d89\">\n",
              "  <button class=\"colab-df-quickchart\" onclick=\"quickchart('df-f461a62f-d181-4dfb-b0ae-796de3808d89')\"\n",
              "            title=\"Suggest charts\"\n",
              "            style=\"display:none;\">\n",
              "\n",
              "<svg xmlns=\"http://www.w3.org/2000/svg\" height=\"24px\"viewBox=\"0 0 24 24\"\n",
              "     width=\"24px\">\n",
              "    <g>\n",
              "        <path d=\"M19 3H5c-1.1 0-2 .9-2 2v14c0 1.1.9 2 2 2h14c1.1 0 2-.9 2-2V5c0-1.1-.9-2-2-2zM9 17H7v-7h2v7zm4 0h-2V7h2v10zm4 0h-2v-4h2v4z\"/>\n",
              "    </g>\n",
              "</svg>\n",
              "  </button>\n",
              "\n",
              "<style>\n",
              "  .colab-df-quickchart {\n",
              "      --bg-color: #E8F0FE;\n",
              "      --fill-color: #1967D2;\n",
              "      --hover-bg-color: #E2EBFA;\n",
              "      --hover-fill-color: #174EA6;\n",
              "      --disabled-fill-color: #AAA;\n",
              "      --disabled-bg-color: #DDD;\n",
              "  }\n",
              "\n",
              "  [theme=dark] .colab-df-quickchart {\n",
              "      --bg-color: #3B4455;\n",
              "      --fill-color: #D2E3FC;\n",
              "      --hover-bg-color: #434B5C;\n",
              "      --hover-fill-color: #FFFFFF;\n",
              "      --disabled-bg-color: #3B4455;\n",
              "      --disabled-fill-color: #666;\n",
              "  }\n",
              "\n",
              "  .colab-df-quickchart {\n",
              "    background-color: var(--bg-color);\n",
              "    border: none;\n",
              "    border-radius: 50%;\n",
              "    cursor: pointer;\n",
              "    display: none;\n",
              "    fill: var(--fill-color);\n",
              "    height: 32px;\n",
              "    padding: 0;\n",
              "    width: 32px;\n",
              "  }\n",
              "\n",
              "  .colab-df-quickchart:hover {\n",
              "    background-color: var(--hover-bg-color);\n",
              "    box-shadow: 0 1px 2px rgba(60, 64, 67, 0.3), 0 1px 3px 1px rgba(60, 64, 67, 0.15);\n",
              "    fill: var(--button-hover-fill-color);\n",
              "  }\n",
              "\n",
              "  .colab-df-quickchart-complete:disabled,\n",
              "  .colab-df-quickchart-complete:disabled:hover {\n",
              "    background-color: var(--disabled-bg-color);\n",
              "    fill: var(--disabled-fill-color);\n",
              "    box-shadow: none;\n",
              "  }\n",
              "\n",
              "  .colab-df-spinner {\n",
              "    border: 2px solid var(--fill-color);\n",
              "    border-color: transparent;\n",
              "    border-bottom-color: var(--fill-color);\n",
              "    animation:\n",
              "      spin 1s steps(1) infinite;\n",
              "  }\n",
              "\n",
              "  @keyframes spin {\n",
              "    0% {\n",
              "      border-color: transparent;\n",
              "      border-bottom-color: var(--fill-color);\n",
              "      border-left-color: var(--fill-color);\n",
              "    }\n",
              "    20% {\n",
              "      border-color: transparent;\n",
              "      border-left-color: var(--fill-color);\n",
              "      border-top-color: var(--fill-color);\n",
              "    }\n",
              "    30% {\n",
              "      border-color: transparent;\n",
              "      border-left-color: var(--fill-color);\n",
              "      border-top-color: var(--fill-color);\n",
              "      border-right-color: var(--fill-color);\n",
              "    }\n",
              "    40% {\n",
              "      border-color: transparent;\n",
              "      border-right-color: var(--fill-color);\n",
              "      border-top-color: var(--fill-color);\n",
              "    }\n",
              "    60% {\n",
              "      border-color: transparent;\n",
              "      border-right-color: var(--fill-color);\n",
              "    }\n",
              "    80% {\n",
              "      border-color: transparent;\n",
              "      border-right-color: var(--fill-color);\n",
              "      border-bottom-color: var(--fill-color);\n",
              "    }\n",
              "    90% {\n",
              "      border-color: transparent;\n",
              "      border-bottom-color: var(--fill-color);\n",
              "    }\n",
              "  }\n",
              "</style>\n",
              "\n",
              "  <script>\n",
              "    async function quickchart(key) {\n",
              "      const quickchartButtonEl =\n",
              "        document.querySelector('#' + key + ' button');\n",
              "      quickchartButtonEl.disabled = true;  // To prevent multiple clicks.\n",
              "      quickchartButtonEl.classList.add('colab-df-spinner');\n",
              "      try {\n",
              "        const charts = await google.colab.kernel.invokeFunction(\n",
              "            'suggestCharts', [key], {});\n",
              "      } catch (error) {\n",
              "        console.error('Error during call to suggestCharts:', error);\n",
              "      }\n",
              "      quickchartButtonEl.classList.remove('colab-df-spinner');\n",
              "      quickchartButtonEl.classList.add('colab-df-quickchart-complete');\n",
              "    }\n",
              "    (() => {\n",
              "      let quickchartButtonEl =\n",
              "        document.querySelector('#df-f461a62f-d181-4dfb-b0ae-796de3808d89 button');\n",
              "      quickchartButtonEl.style.display =\n",
              "        google.colab.kernel.accessAllowed ? 'block' : 'none';\n",
              "    })();\n",
              "  </script>\n",
              "</div>\n",
              "    </div>\n",
              "  </div>\n"
            ]
          },
          "metadata": {},
          "execution_count": 9
        }
      ]
    },
    {
      "cell_type": "code",
      "source": [
        "np.ones(30)"
      ],
      "metadata": {
        "colab": {
          "base_uri": "https://localhost:8080/"
        },
        "id": "W_LYZvsZayjM",
        "outputId": "ac0f862c-78cf-49bc-b2dd-a2ee8cfac8d4"
      },
      "execution_count": null,
      "outputs": [
        {
          "output_type": "execute_result",
          "data": {
            "text/plain": [
              "array([1., 1., 1., 1., 1., 1., 1., 1., 1., 1., 1., 1., 1., 1., 1., 1., 1.,\n",
              "       1., 1., 1., 1., 1., 1., 1., 1., 1., 1., 1., 1., 1.])"
            ]
          },
          "metadata": {},
          "execution_count": 58
        }
      ]
    },
    {
      "cell_type": "code",
      "source": [
        "np.zeros(12)"
      ],
      "metadata": {
        "colab": {
          "base_uri": "https://localhost:8080/"
        },
        "id": "LI3_KZZda0lp",
        "outputId": "48df47be-6dff-42db-b527-7b4855645b3a"
      },
      "execution_count": null,
      "outputs": [
        {
          "output_type": "execute_result",
          "data": {
            "text/plain": [
              "array([0., 0., 0., 0., 0., 0., 0., 0., 0., 0., 0., 0.])"
            ]
          },
          "metadata": {},
          "execution_count": 59
        }
      ]
    },
    {
      "cell_type": "code",
      "source": [
        "# df['animal'] = np.array([1]*34 + [0]*6)"
      ],
      "metadata": {
        "id": "xNi9FXftaLCg"
      },
      "execution_count": null,
      "outputs": []
    },
    {
      "cell_type": "markdown",
      "source": [
        "## Нормировака данных"
      ],
      "metadata": {
        "id": "mDpewnIK8gLm"
      }
    },
    {
      "cell_type": "code",
      "source": [
        "df = (df - df.mean()) / df.std(ddof=0)"
      ],
      "metadata": {
        "id": "WzZMIRNT8VBT"
      },
      "execution_count": null,
      "outputs": []
    },
    {
      "cell_type": "markdown",
      "source": [
        "## Расчет матрицы корреляции"
      ],
      "metadata": {
        "id": "y3QP_T8l9Jgr"
      }
    },
    {
      "cell_type": "code",
      "source": [
        "df.corr().round(2)"
      ],
      "metadata": {
        "colab": {
          "base_uri": "https://localhost:8080/",
          "height": 238
        },
        "id": "uRCLY50W8pZS",
        "outputId": "b2f29bdf-798e-4e2b-cccb-7d78bf4b6128"
      },
      "execution_count": null,
      "outputs": [
        {
          "output_type": "execute_result",
          "data": {
            "text/plain": [
              "                               Длина черпа  Длина верхней челюсти  \\\n",
              "Длина черпа                           1.00                   0.96   \n",
              "Длина верхней челюсти                 0.96                   1.00   \n",
              "Ширина верхней челюсти                0.35                   0.20   \n",
              "Длина верхнего карнивора              0.61                   0.66   \n",
              "Длина вервого верхнего моляра         0.72                   0.74   \n",
              "Ширина верхнего моляра                0.59                   0.59   \n",
              "\n",
              "                               Ширина верхней челюсти  \\\n",
              "Длина черпа                                      0.35   \n",
              "Длина верхней челюсти                            0.20   \n",
              "Ширина верхней челюсти                           1.00   \n",
              "Длина верхнего карнивора                         0.37   \n",
              "Длина вервого верхнего моляра                    0.35   \n",
              "Ширина верхнего моляра                           0.35   \n",
              "\n",
              "                               Длина верхнего карнивора  \\\n",
              "Длина черпа                                        0.61   \n",
              "Длина верхней челюсти                              0.66   \n",
              "Ширина верхней челюсти                             0.37   \n",
              "Длина верхнего карнивора                           1.00   \n",
              "Длина вервого верхнего моляра                      0.89   \n",
              "Ширина верхнего моляра                             0.76   \n",
              "\n",
              "                               Длина вервого верхнего моляра  \\\n",
              "Длина черпа                                             0.72   \n",
              "Длина верхней челюсти                                   0.74   \n",
              "Ширина верхней челюсти                                  0.35   \n",
              "Длина верхнего карнивора                                0.89   \n",
              "Длина вервого верхнего моляра                           1.00   \n",
              "Ширина верхнего моляра                                  0.79   \n",
              "\n",
              "                               Ширина верхнего моляра  \n",
              "Длина черпа                                      0.59  \n",
              "Длина верхней челюсти                            0.59  \n",
              "Ширина верхней челюсти                           0.35  \n",
              "Длина верхнего карнивора                         0.76  \n",
              "Длина вервого верхнего моляра                    0.79  \n",
              "Ширина верхнего моляра                           1.00  "
            ],
            "text/html": [
              "\n",
              "  <div id=\"df-5f378077-a822-4a8d-9423-f1c435ea3ee7\" class=\"colab-df-container\">\n",
              "    <div>\n",
              "<style scoped>\n",
              "    .dataframe tbody tr th:only-of-type {\n",
              "        vertical-align: middle;\n",
              "    }\n",
              "\n",
              "    .dataframe tbody tr th {\n",
              "        vertical-align: top;\n",
              "    }\n",
              "\n",
              "    .dataframe thead th {\n",
              "        text-align: right;\n",
              "    }\n",
              "</style>\n",
              "<table border=\"1\" class=\"dataframe\">\n",
              "  <thead>\n",
              "    <tr style=\"text-align: right;\">\n",
              "      <th></th>\n",
              "      <th>Длина черпа</th>\n",
              "      <th>Длина верхней челюсти</th>\n",
              "      <th>Ширина верхней челюсти</th>\n",
              "      <th>Длина верхнего карнивора</th>\n",
              "      <th>Длина вервого верхнего моляра</th>\n",
              "      <th>Ширина верхнего моляра</th>\n",
              "    </tr>\n",
              "  </thead>\n",
              "  <tbody>\n",
              "    <tr>\n",
              "      <th>Длина черпа</th>\n",
              "      <td>1.00</td>\n",
              "      <td>0.96</td>\n",
              "      <td>0.35</td>\n",
              "      <td>0.61</td>\n",
              "      <td>0.72</td>\n",
              "      <td>0.59</td>\n",
              "    </tr>\n",
              "    <tr>\n",
              "      <th>Длина верхней челюсти</th>\n",
              "      <td>0.96</td>\n",
              "      <td>1.00</td>\n",
              "      <td>0.20</td>\n",
              "      <td>0.66</td>\n",
              "      <td>0.74</td>\n",
              "      <td>0.59</td>\n",
              "    </tr>\n",
              "    <tr>\n",
              "      <th>Ширина верхней челюсти</th>\n",
              "      <td>0.35</td>\n",
              "      <td>0.20</td>\n",
              "      <td>1.00</td>\n",
              "      <td>0.37</td>\n",
              "      <td>0.35</td>\n",
              "      <td>0.35</td>\n",
              "    </tr>\n",
              "    <tr>\n",
              "      <th>Длина верхнего карнивора</th>\n",
              "      <td>0.61</td>\n",
              "      <td>0.66</td>\n",
              "      <td>0.37</td>\n",
              "      <td>1.00</td>\n",
              "      <td>0.89</td>\n",
              "      <td>0.76</td>\n",
              "    </tr>\n",
              "    <tr>\n",
              "      <th>Длина вервого верхнего моляра</th>\n",
              "      <td>0.72</td>\n",
              "      <td>0.74</td>\n",
              "      <td>0.35</td>\n",
              "      <td>0.89</td>\n",
              "      <td>1.00</td>\n",
              "      <td>0.79</td>\n",
              "    </tr>\n",
              "    <tr>\n",
              "      <th>Ширина верхнего моляра</th>\n",
              "      <td>0.59</td>\n",
              "      <td>0.59</td>\n",
              "      <td>0.35</td>\n",
              "      <td>0.76</td>\n",
              "      <td>0.79</td>\n",
              "      <td>1.00</td>\n",
              "    </tr>\n",
              "  </tbody>\n",
              "</table>\n",
              "</div>\n",
              "    <div class=\"colab-df-buttons\">\n",
              "\n",
              "  <div class=\"colab-df-container\">\n",
              "    <button class=\"colab-df-convert\" onclick=\"convertToInteractive('df-5f378077-a822-4a8d-9423-f1c435ea3ee7')\"\n",
              "            title=\"Convert this dataframe to an interactive table.\"\n",
              "            style=\"display:none;\">\n",
              "\n",
              "  <svg xmlns=\"http://www.w3.org/2000/svg\" height=\"24px\" viewBox=\"0 -960 960 960\">\n",
              "    <path d=\"M120-120v-720h720v720H120Zm60-500h600v-160H180v160Zm220 220h160v-160H400v160Zm0 220h160v-160H400v160ZM180-400h160v-160H180v160Zm440 0h160v-160H620v160ZM180-180h160v-160H180v160Zm440 0h160v-160H620v160Z\"/>\n",
              "  </svg>\n",
              "    </button>\n",
              "\n",
              "  <style>\n",
              "    .colab-df-container {\n",
              "      display:flex;\n",
              "      gap: 12px;\n",
              "    }\n",
              "\n",
              "    .colab-df-convert {\n",
              "      background-color: #E8F0FE;\n",
              "      border: none;\n",
              "      border-radius: 50%;\n",
              "      cursor: pointer;\n",
              "      display: none;\n",
              "      fill: #1967D2;\n",
              "      height: 32px;\n",
              "      padding: 0 0 0 0;\n",
              "      width: 32px;\n",
              "    }\n",
              "\n",
              "    .colab-df-convert:hover {\n",
              "      background-color: #E2EBFA;\n",
              "      box-shadow: 0px 1px 2px rgba(60, 64, 67, 0.3), 0px 1px 3px 1px rgba(60, 64, 67, 0.15);\n",
              "      fill: #174EA6;\n",
              "    }\n",
              "\n",
              "    .colab-df-buttons div {\n",
              "      margin-bottom: 4px;\n",
              "    }\n",
              "\n",
              "    [theme=dark] .colab-df-convert {\n",
              "      background-color: #3B4455;\n",
              "      fill: #D2E3FC;\n",
              "    }\n",
              "\n",
              "    [theme=dark] .colab-df-convert:hover {\n",
              "      background-color: #434B5C;\n",
              "      box-shadow: 0px 1px 3px 1px rgba(0, 0, 0, 0.15);\n",
              "      filter: drop-shadow(0px 1px 2px rgba(0, 0, 0, 0.3));\n",
              "      fill: #FFFFFF;\n",
              "    }\n",
              "  </style>\n",
              "\n",
              "    <script>\n",
              "      const buttonEl =\n",
              "        document.querySelector('#df-5f378077-a822-4a8d-9423-f1c435ea3ee7 button.colab-df-convert');\n",
              "      buttonEl.style.display =\n",
              "        google.colab.kernel.accessAllowed ? 'block' : 'none';\n",
              "\n",
              "      async function convertToInteractive(key) {\n",
              "        const element = document.querySelector('#df-5f378077-a822-4a8d-9423-f1c435ea3ee7');\n",
              "        const dataTable =\n",
              "          await google.colab.kernel.invokeFunction('convertToInteractive',\n",
              "                                                    [key], {});\n",
              "        if (!dataTable) return;\n",
              "\n",
              "        const docLinkHtml = 'Like what you see? Visit the ' +\n",
              "          '<a target=\"_blank\" href=https://colab.research.google.com/notebooks/data_table.ipynb>data table notebook</a>'\n",
              "          + ' to learn more about interactive tables.';\n",
              "        element.innerHTML = '';\n",
              "        dataTable['output_type'] = 'display_data';\n",
              "        await google.colab.output.renderOutput(dataTable, element);\n",
              "        const docLink = document.createElement('div');\n",
              "        docLink.innerHTML = docLinkHtml;\n",
              "        element.appendChild(docLink);\n",
              "      }\n",
              "    </script>\n",
              "  </div>\n",
              "\n",
              "\n",
              "<div id=\"df-ff8960b7-925e-4364-9812-d4c7c85ff9fa\">\n",
              "  <button class=\"colab-df-quickchart\" onclick=\"quickchart('df-ff8960b7-925e-4364-9812-d4c7c85ff9fa')\"\n",
              "            title=\"Suggest charts\"\n",
              "            style=\"display:none;\">\n",
              "\n",
              "<svg xmlns=\"http://www.w3.org/2000/svg\" height=\"24px\"viewBox=\"0 0 24 24\"\n",
              "     width=\"24px\">\n",
              "    <g>\n",
              "        <path d=\"M19 3H5c-1.1 0-2 .9-2 2v14c0 1.1.9 2 2 2h14c1.1 0 2-.9 2-2V5c0-1.1-.9-2-2-2zM9 17H7v-7h2v7zm4 0h-2V7h2v10zm4 0h-2v-4h2v4z\"/>\n",
              "    </g>\n",
              "</svg>\n",
              "  </button>\n",
              "\n",
              "<style>\n",
              "  .colab-df-quickchart {\n",
              "      --bg-color: #E8F0FE;\n",
              "      --fill-color: #1967D2;\n",
              "      --hover-bg-color: #E2EBFA;\n",
              "      --hover-fill-color: #174EA6;\n",
              "      --disabled-fill-color: #AAA;\n",
              "      --disabled-bg-color: #DDD;\n",
              "  }\n",
              "\n",
              "  [theme=dark] .colab-df-quickchart {\n",
              "      --bg-color: #3B4455;\n",
              "      --fill-color: #D2E3FC;\n",
              "      --hover-bg-color: #434B5C;\n",
              "      --hover-fill-color: #FFFFFF;\n",
              "      --disabled-bg-color: #3B4455;\n",
              "      --disabled-fill-color: #666;\n",
              "  }\n",
              "\n",
              "  .colab-df-quickchart {\n",
              "    background-color: var(--bg-color);\n",
              "    border: none;\n",
              "    border-radius: 50%;\n",
              "    cursor: pointer;\n",
              "    display: none;\n",
              "    fill: var(--fill-color);\n",
              "    height: 32px;\n",
              "    padding: 0;\n",
              "    width: 32px;\n",
              "  }\n",
              "\n",
              "  .colab-df-quickchart:hover {\n",
              "    background-color: var(--hover-bg-color);\n",
              "    box-shadow: 0 1px 2px rgba(60, 64, 67, 0.3), 0 1px 3px 1px rgba(60, 64, 67, 0.15);\n",
              "    fill: var(--button-hover-fill-color);\n",
              "  }\n",
              "\n",
              "  .colab-df-quickchart-complete:disabled,\n",
              "  .colab-df-quickchart-complete:disabled:hover {\n",
              "    background-color: var(--disabled-bg-color);\n",
              "    fill: var(--disabled-fill-color);\n",
              "    box-shadow: none;\n",
              "  }\n",
              "\n",
              "  .colab-df-spinner {\n",
              "    border: 2px solid var(--fill-color);\n",
              "    border-color: transparent;\n",
              "    border-bottom-color: var(--fill-color);\n",
              "    animation:\n",
              "      spin 1s steps(1) infinite;\n",
              "  }\n",
              "\n",
              "  @keyframes spin {\n",
              "    0% {\n",
              "      border-color: transparent;\n",
              "      border-bottom-color: var(--fill-color);\n",
              "      border-left-color: var(--fill-color);\n",
              "    }\n",
              "    20% {\n",
              "      border-color: transparent;\n",
              "      border-left-color: var(--fill-color);\n",
              "      border-top-color: var(--fill-color);\n",
              "    }\n",
              "    30% {\n",
              "      border-color: transparent;\n",
              "      border-left-color: var(--fill-color);\n",
              "      border-top-color: var(--fill-color);\n",
              "      border-right-color: var(--fill-color);\n",
              "    }\n",
              "    40% {\n",
              "      border-color: transparent;\n",
              "      border-right-color: var(--fill-color);\n",
              "      border-top-color: var(--fill-color);\n",
              "    }\n",
              "    60% {\n",
              "      border-color: transparent;\n",
              "      border-right-color: var(--fill-color);\n",
              "    }\n",
              "    80% {\n",
              "      border-color: transparent;\n",
              "      border-right-color: var(--fill-color);\n",
              "      border-bottom-color: var(--fill-color);\n",
              "    }\n",
              "    90% {\n",
              "      border-color: transparent;\n",
              "      border-bottom-color: var(--fill-color);\n",
              "    }\n",
              "  }\n",
              "</style>\n",
              "\n",
              "  <script>\n",
              "    async function quickchart(key) {\n",
              "      const quickchartButtonEl =\n",
              "        document.querySelector('#' + key + ' button');\n",
              "      quickchartButtonEl.disabled = true;  // To prevent multiple clicks.\n",
              "      quickchartButtonEl.classList.add('colab-df-spinner');\n",
              "      try {\n",
              "        const charts = await google.colab.kernel.invokeFunction(\n",
              "            'suggestCharts', [key], {});\n",
              "      } catch (error) {\n",
              "        console.error('Error during call to suggestCharts:', error);\n",
              "      }\n",
              "      quickchartButtonEl.classList.remove('colab-df-spinner');\n",
              "      quickchartButtonEl.classList.add('colab-df-quickchart-complete');\n",
              "    }\n",
              "    (() => {\n",
              "      let quickchartButtonEl =\n",
              "        document.querySelector('#df-ff8960b7-925e-4364-9812-d4c7c85ff9fa button');\n",
              "      quickchartButtonEl.style.display =\n",
              "        google.colab.kernel.accessAllowed ? 'block' : 'none';\n",
              "    })();\n",
              "  </script>\n",
              "</div>\n",
              "    </div>\n",
              "  </div>\n"
            ]
          },
          "metadata": {},
          "execution_count": 187
        }
      ]
    },
    {
      "cell_type": "code",
      "source": [
        "corr = df.corr().round(2)\n",
        "corr.style.background_gradient(cmap='coolwarm')"
      ],
      "metadata": {
        "colab": {
          "base_uri": "https://localhost:8080/",
          "height": 238
        },
        "id": "2g62LkKH9Nok",
        "outputId": "7a6c0197-c1bc-462f-9999-83fd1809ff39"
      },
      "execution_count": null,
      "outputs": [
        {
          "output_type": "execute_result",
          "data": {
            "text/plain": [
              "<pandas.io.formats.style.Styler at 0x7d607b344af0>"
            ],
            "text/html": [
              "<style type=\"text/css\">\n",
              "#T_d9ed2_row0_col0, #T_d9ed2_row1_col1, #T_d9ed2_row2_col2, #T_d9ed2_row3_col3, #T_d9ed2_row4_col4, #T_d9ed2_row5_col5 {\n",
              "  background-color: #b40426;\n",
              "  color: #f1f1f1;\n",
              "}\n",
              "#T_d9ed2_row0_col1 {\n",
              "  background-color: #c53334;\n",
              "  color: #f1f1f1;\n",
              "}\n",
              "#T_d9ed2_row0_col2, #T_d9ed2_row4_col2, #T_d9ed2_row5_col2 {\n",
              "  background-color: #7699f6;\n",
              "  color: #f1f1f1;\n",
              "}\n",
              "#T_d9ed2_row0_col3 {\n",
              "  background-color: #bad0f8;\n",
              "  color: #000000;\n",
              "}\n",
              "#T_d9ed2_row0_col4, #T_d9ed2_row4_col0 {\n",
              "  background-color: #edd2c3;\n",
              "  color: #000000;\n",
              "}\n",
              "#T_d9ed2_row0_col5, #T_d9ed2_row1_col5, #T_d9ed2_row5_col0 {\n",
              "  background-color: #b6cefa;\n",
              "  color: #000000;\n",
              "}\n",
              "#T_d9ed2_row1_col0 {\n",
              "  background-color: #ca3b37;\n",
              "  color: #f1f1f1;\n",
              "}\n",
              "#T_d9ed2_row1_col2, #T_d9ed2_row2_col0, #T_d9ed2_row2_col1, #T_d9ed2_row2_col3, #T_d9ed2_row2_col4, #T_d9ed2_row2_col5 {\n",
              "  background-color: #3b4cc0;\n",
              "  color: #f1f1f1;\n",
              "}\n",
              "#T_d9ed2_row1_col3 {\n",
              "  background-color: #d2dbe8;\n",
              "  color: #000000;\n",
              "}\n",
              "#T_d9ed2_row1_col4 {\n",
              "  background-color: #f2cbb7;\n",
              "  color: #000000;\n",
              "}\n",
              "#T_d9ed2_row3_col0 {\n",
              "  background-color: #c0d4f5;\n",
              "  color: #000000;\n",
              "}\n",
              "#T_d9ed2_row3_col1 {\n",
              "  background-color: #eed0c0;\n",
              "  color: #000000;\n",
              "}\n",
              "#T_d9ed2_row3_col2 {\n",
              "  background-color: #80a3fa;\n",
              "  color: #f1f1f1;\n",
              "}\n",
              "#T_d9ed2_row3_col4 {\n",
              "  background-color: #e8765c;\n",
              "  color: #f1f1f1;\n",
              "}\n",
              "#T_d9ed2_row3_col5 {\n",
              "  background-color: #f5c2aa;\n",
              "  color: #000000;\n",
              "}\n",
              "#T_d9ed2_row4_col1 {\n",
              "  background-color: #f7b599;\n",
              "  color: #000000;\n",
              "}\n",
              "#T_d9ed2_row4_col3 {\n",
              "  background-color: #e9785d;\n",
              "  color: #f1f1f1;\n",
              "}\n",
              "#T_d9ed2_row4_col5, #T_d9ed2_row5_col4 {\n",
              "  background-color: #f7b497;\n",
              "  color: #000000;\n",
              "}\n",
              "#T_d9ed2_row5_col1 {\n",
              "  background-color: #d9dce1;\n",
              "  color: #000000;\n",
              "}\n",
              "#T_d9ed2_row5_col3 {\n",
              "  background-color: #f4c6af;\n",
              "  color: #000000;\n",
              "}\n",
              "</style>\n",
              "<table id=\"T_d9ed2\" class=\"dataframe\">\n",
              "  <thead>\n",
              "    <tr>\n",
              "      <th class=\"blank level0\" >&nbsp;</th>\n",
              "      <th id=\"T_d9ed2_level0_col0\" class=\"col_heading level0 col0\" >Длина черпа</th>\n",
              "      <th id=\"T_d9ed2_level0_col1\" class=\"col_heading level0 col1\" >Длина верхней челюсти</th>\n",
              "      <th id=\"T_d9ed2_level0_col2\" class=\"col_heading level0 col2\" >Ширина верхней челюсти</th>\n",
              "      <th id=\"T_d9ed2_level0_col3\" class=\"col_heading level0 col3\" >Длина верхнего карнивора</th>\n",
              "      <th id=\"T_d9ed2_level0_col4\" class=\"col_heading level0 col4\" >Длина вервого верхнего моляра</th>\n",
              "      <th id=\"T_d9ed2_level0_col5\" class=\"col_heading level0 col5\" >Ширина верхнего моляра</th>\n",
              "    </tr>\n",
              "  </thead>\n",
              "  <tbody>\n",
              "    <tr>\n",
              "      <th id=\"T_d9ed2_level0_row0\" class=\"row_heading level0 row0\" >Длина черпа</th>\n",
              "      <td id=\"T_d9ed2_row0_col0\" class=\"data row0 col0\" >1.000000</td>\n",
              "      <td id=\"T_d9ed2_row0_col1\" class=\"data row0 col1\" >0.960000</td>\n",
              "      <td id=\"T_d9ed2_row0_col2\" class=\"data row0 col2\" >0.350000</td>\n",
              "      <td id=\"T_d9ed2_row0_col3\" class=\"data row0 col3\" >0.610000</td>\n",
              "      <td id=\"T_d9ed2_row0_col4\" class=\"data row0 col4\" >0.720000</td>\n",
              "      <td id=\"T_d9ed2_row0_col5\" class=\"data row0 col5\" >0.590000</td>\n",
              "    </tr>\n",
              "    <tr>\n",
              "      <th id=\"T_d9ed2_level0_row1\" class=\"row_heading level0 row1\" >Длина верхней челюсти</th>\n",
              "      <td id=\"T_d9ed2_row1_col0\" class=\"data row1 col0\" >0.960000</td>\n",
              "      <td id=\"T_d9ed2_row1_col1\" class=\"data row1 col1\" >1.000000</td>\n",
              "      <td id=\"T_d9ed2_row1_col2\" class=\"data row1 col2\" >0.200000</td>\n",
              "      <td id=\"T_d9ed2_row1_col3\" class=\"data row1 col3\" >0.660000</td>\n",
              "      <td id=\"T_d9ed2_row1_col4\" class=\"data row1 col4\" >0.740000</td>\n",
              "      <td id=\"T_d9ed2_row1_col5\" class=\"data row1 col5\" >0.590000</td>\n",
              "    </tr>\n",
              "    <tr>\n",
              "      <th id=\"T_d9ed2_level0_row2\" class=\"row_heading level0 row2\" >Ширина верхней челюсти</th>\n",
              "      <td id=\"T_d9ed2_row2_col0\" class=\"data row2 col0\" >0.350000</td>\n",
              "      <td id=\"T_d9ed2_row2_col1\" class=\"data row2 col1\" >0.200000</td>\n",
              "      <td id=\"T_d9ed2_row2_col2\" class=\"data row2 col2\" >1.000000</td>\n",
              "      <td id=\"T_d9ed2_row2_col3\" class=\"data row2 col3\" >0.370000</td>\n",
              "      <td id=\"T_d9ed2_row2_col4\" class=\"data row2 col4\" >0.350000</td>\n",
              "      <td id=\"T_d9ed2_row2_col5\" class=\"data row2 col5\" >0.350000</td>\n",
              "    </tr>\n",
              "    <tr>\n",
              "      <th id=\"T_d9ed2_level0_row3\" class=\"row_heading level0 row3\" >Длина верхнего карнивора</th>\n",
              "      <td id=\"T_d9ed2_row3_col0\" class=\"data row3 col0\" >0.610000</td>\n",
              "      <td id=\"T_d9ed2_row3_col1\" class=\"data row3 col1\" >0.660000</td>\n",
              "      <td id=\"T_d9ed2_row3_col2\" class=\"data row3 col2\" >0.370000</td>\n",
              "      <td id=\"T_d9ed2_row3_col3\" class=\"data row3 col3\" >1.000000</td>\n",
              "      <td id=\"T_d9ed2_row3_col4\" class=\"data row3 col4\" >0.890000</td>\n",
              "      <td id=\"T_d9ed2_row3_col5\" class=\"data row3 col5\" >0.760000</td>\n",
              "    </tr>\n",
              "    <tr>\n",
              "      <th id=\"T_d9ed2_level0_row4\" class=\"row_heading level0 row4\" >Длина вервого верхнего моляра</th>\n",
              "      <td id=\"T_d9ed2_row4_col0\" class=\"data row4 col0\" >0.720000</td>\n",
              "      <td id=\"T_d9ed2_row4_col1\" class=\"data row4 col1\" >0.740000</td>\n",
              "      <td id=\"T_d9ed2_row4_col2\" class=\"data row4 col2\" >0.350000</td>\n",
              "      <td id=\"T_d9ed2_row4_col3\" class=\"data row4 col3\" >0.890000</td>\n",
              "      <td id=\"T_d9ed2_row4_col4\" class=\"data row4 col4\" >1.000000</td>\n",
              "      <td id=\"T_d9ed2_row4_col5\" class=\"data row4 col5\" >0.790000</td>\n",
              "    </tr>\n",
              "    <tr>\n",
              "      <th id=\"T_d9ed2_level0_row5\" class=\"row_heading level0 row5\" >Ширина верхнего моляра</th>\n",
              "      <td id=\"T_d9ed2_row5_col0\" class=\"data row5 col0\" >0.590000</td>\n",
              "      <td id=\"T_d9ed2_row5_col1\" class=\"data row5 col1\" >0.590000</td>\n",
              "      <td id=\"T_d9ed2_row5_col2\" class=\"data row5 col2\" >0.350000</td>\n",
              "      <td id=\"T_d9ed2_row5_col3\" class=\"data row5 col3\" >0.760000</td>\n",
              "      <td id=\"T_d9ed2_row5_col4\" class=\"data row5 col4\" >0.790000</td>\n",
              "      <td id=\"T_d9ed2_row5_col5\" class=\"data row5 col5\" >1.000000</td>\n",
              "    </tr>\n",
              "  </tbody>\n",
              "</table>\n"
            ]
          },
          "metadata": {},
          "execution_count": 188
        }
      ]
    },
    {
      "cell_type": "markdown",
      "source": [
        "## Нахождение собственных векторов и собственных значений матрицы корреляций\n"
      ],
      "metadata": {
        "id": "FeKiVqB19zv1"
      }
    },
    {
      "cell_type": "code",
      "source": [
        "cov_matrix = np.cov(df, rowvar=False).round(2)"
      ],
      "metadata": {
        "id": "UH5RWZ1n9fMd"
      },
      "execution_count": null,
      "outputs": []
    },
    {
      "cell_type": "code",
      "source": [
        "cov_matrix"
      ],
      "metadata": {
        "colab": {
          "base_uri": "https://localhost:8080/"
        },
        "id": "-2BDjCtkJl5d",
        "outputId": "00f05b1b-dc85-4c78-862a-b5d545fbb244"
      },
      "execution_count": null,
      "outputs": [
        {
          "output_type": "execute_result",
          "data": {
            "text/plain": [
              "array([[1.02, 0.98, 0.36, 0.63, 0.74, 0.6 ],\n",
              "       [0.98, 1.02, 0.21, 0.68, 0.75, 0.61],\n",
              "       [0.36, 0.21, 1.02, 0.38, 0.36, 0.36],\n",
              "       [0.63, 0.68, 0.38, 1.02, 0.92, 0.78],\n",
              "       [0.74, 0.75, 0.36, 0.92, 1.02, 0.81],\n",
              "       [0.6 , 0.61, 0.36, 0.78, 0.81, 1.02]])"
            ]
          },
          "metadata": {},
          "execution_count": 30
        }
      ]
    },
    {
      "cell_type": "code",
      "source": [
        "eigenvalues, eigenvectors = eig(cov_matrix)"
      ],
      "metadata": {
        "id": "ED0v3DMq-Suh"
      },
      "execution_count": null,
      "outputs": []
    },
    {
      "cell_type": "code",
      "source": [
        "eigenvalues = np.round(eigenvalues, 3)"
      ],
      "metadata": {
        "id": "iQVQio4l-dtU"
      },
      "execution_count": null,
      "outputs": []
    },
    {
      "cell_type": "code",
      "source": [
        "eigenvalues"
      ],
      "metadata": {
        "colab": {
          "base_uri": "https://localhost:8080/"
        },
        "id": "amDXuYnA__vE",
        "outputId": "836f0694-caf0-4799-8196-1097130c3e70"
      },
      "execution_count": null,
      "outputs": [
        {
          "output_type": "execute_result",
          "data": {
            "text/plain": [
              "array([4.2  , 0.894, 0.652, 0.263, 0.018, 0.093])"
            ]
          },
          "metadata": {},
          "execution_count": 33
        }
      ]
    },
    {
      "cell_type": "code",
      "source": [
        "percentage_of_trail = eigenvalues / np.sum(eigenvalues) * 100"
      ],
      "metadata": {
        "id": "XobcaJLfBSTR"
      },
      "execution_count": null,
      "outputs": []
    },
    {
      "cell_type": "code",
      "source": [
        "percentage_of_trail"
      ],
      "metadata": {
        "colab": {
          "base_uri": "https://localhost:8080/"
        },
        "id": "8VzVp5IpBt8-",
        "outputId": "0146c30a-7d2f-4c5f-eb4a-ee12db836076"
      },
      "execution_count": null,
      "outputs": [
        {
          "output_type": "execute_result",
          "data": {
            "text/plain": [
              "array([68.62745098, 14.60784314, 10.65359477,  4.29738562,  0.29411765,\n",
              "        1.51960784])"
            ]
          },
          "metadata": {},
          "execution_count": 35
        }
      ]
    },
    {
      "cell_type": "code",
      "source": [
        "cum_sum = np.cumsum(sorted(percentage_of_trail, reverse=True))"
      ],
      "metadata": {
        "id": "_AU348rmBr4j"
      },
      "execution_count": null,
      "outputs": []
    },
    {
      "cell_type": "code",
      "source": [
        "cum_sum"
      ],
      "metadata": {
        "colab": {
          "base_uri": "https://localhost:8080/"
        },
        "id": "j8Rcgb7_Bvcu",
        "outputId": "f969bb06-1a56-4503-dcf0-9010298a3033"
      },
      "execution_count": null,
      "outputs": [
        {
          "output_type": "execute_result",
          "data": {
            "text/plain": [
              "array([ 68.62745098,  83.23529412,  93.88888889,  98.18627451,\n",
              "        99.70588235, 100.        ])"
            ]
          },
          "metadata": {},
          "execution_count": 39
        }
      ]
    },
    {
      "cell_type": "code",
      "source": [
        "eigenvectors = np.round(eigenvectors, 2)"
      ],
      "metadata": {
        "id": "52TXej8s-ey9"
      },
      "execution_count": null,
      "outputs": []
    },
    {
      "cell_type": "code",
      "source": [
        "eigenvectors"
      ],
      "metadata": {
        "colab": {
          "base_uri": "https://localhost:8080/"
        },
        "id": "2zqm-tKc-gKv",
        "outputId": "471a9f9c-4aec-4dca-bade-0d6015a07124"
      },
      "execution_count": null,
      "outputs": [
        {
          "output_type": "execute_result",
          "data": {
            "text/plain": [
              "array([[ 0.43,  0.22, -0.53,  0.1 , -0.68, -0.1 ],\n",
              "       [ 0.43,  0.37, -0.4 ,  0.02,  0.67,  0.26],\n",
              "       [ 0.23, -0.89, -0.36, -0.02,  0.13,  0.01],\n",
              "       [ 0.44, -0.06,  0.39, -0.53, -0.22,  0.57],\n",
              "       [ 0.46,  0.02,  0.27, -0.31,  0.16, -0.77],\n",
              "       [ 0.41, -0.09,  0.44,  0.78, -0.01,  0.09]])"
            ]
          },
          "metadata": {},
          "execution_count": 25
        }
      ]
    },
    {
      "cell_type": "markdown",
      "source": [
        "## PCA"
      ],
      "metadata": {
        "id": "aHSDSBoIMsKP"
      }
    },
    {
      "cell_type": "code",
      "source": [
        "sorted_index = np.argsort(eigenvalues)[::-1]\n",
        "sorted_eigenvalue = eigenvalues[sorted_index]\n",
        "sorted_eigenvectors = eigenvectors[:, sorted_index]"
      ],
      "metadata": {
        "id": "-cbr7CpSGWiv"
      },
      "execution_count": null,
      "outputs": []
    },
    {
      "cell_type": "code",
      "source": [
        "sorted_eigenvectors"
      ],
      "metadata": {
        "colab": {
          "base_uri": "https://localhost:8080/"
        },
        "id": "wtVFRklfHn8w",
        "outputId": "df051803-7cf8-4359-92db-eca13a7d016f"
      },
      "execution_count": null,
      "outputs": [
        {
          "output_type": "execute_result",
          "data": {
            "text/plain": [
              "array([[ 0.43085705,  0.22087526, -0.53193254,  0.10383305, -0.10496344,\n",
              "        -0.67884127],\n",
              "       [ 0.4299952 ,  0.37374412, -0.39962318,  0.01682678,  0.2564171 ,\n",
              "         0.67058773],\n",
              "       [ 0.22875656, -0.89442584, -0.3603176 , -0.01559818,  0.01473524,\n",
              "         0.13184705],\n",
              "       [ 0.43954294, -0.05957858,  0.39350973, -0.52974896,  0.56615982,\n",
              "        -0.2173283 ],\n",
              "       [ 0.46036215,  0.02323794,  0.27394043, -0.3056415 , -0.77087512,\n",
              "         0.15753779],\n",
              "       [ 0.41473541, -0.08626848,  0.44455265,  0.7839908 ,  0.09072172,\n",
              "        -0.00729658]])"
            ]
          },
          "metadata": {},
          "execution_count": 44
        }
      ]
    },
    {
      "cell_type": "code",
      "source": [
        "X_pandas = np.dot(df.to_numpy(), sorted_eigenvectors)"
      ],
      "metadata": {
        "id": "JhbUtEfXGUiV"
      },
      "execution_count": null,
      "outputs": []
    },
    {
      "cell_type": "code",
      "source": [
        "plt.scatter(X_pandas[:, 0], X_pandas[:, 1], alpha=0.5)\n",
        "plt.xlabel('Principal Component 1')\n",
        "plt.ylabel('Principal Component 2')\n",
        "plt.title('Data after PCA using pandas')\n",
        "plt.show()"
      ],
      "metadata": {
        "colab": {
          "base_uri": "https://localhost:8080/",
          "height": 472
        },
        "id": "T2UqpKRnGqEE",
        "outputId": "dfefa3bd-541b-4033-8aa3-30516d922330"
      },
      "execution_count": null,
      "outputs": [
        {
          "output_type": "display_data",
          "data": {
            "text/plain": [
              "<Figure size 640x480 with 1 Axes>"
            ],
            "image/png": "[encoded data removed]"
          },
          "metadata": {}
        }
      ]
    },
    {
      "cell_type": "markdown",
      "source": [
        "# PCA with Sklearn"
      ],
      "metadata": {
        "id": "T_AMyhcsND5u"
      }
    },
    {
      "cell_type": "markdown",
      "source": [
        "## PCA - 3 components"
      ],
      "metadata": {
        "id": "qSyOj2NgCR1Q"
      }
    },
    {
      "cell_type": "code",
      "source": [
        "pca = PCA(n_components=3)"
      ],
      "metadata": {
        "id": "SWaHpTviCebe"
      },
      "execution_count": null,
      "outputs": []
    },
    {
      "cell_type": "code",
      "source": [
        "components = pca.fit_transform(df)"
      ],
      "metadata": {
        "id": "cSYlozNmCTHB"
      },
      "execution_count": null,
      "outputs": []
    },
    {
      "cell_type": "code",
      "source": [
        "print(pca.explained_variance_ratio_)"
      ],
      "metadata": {
        "colab": {
          "base_uri": "https://localhost:8080/"
        },
        "id": "K_g9xxrHCfwj",
        "outputId": "57a82427-6b76-4660-8adc-bed63b521bf8"
      },
      "execution_count": null,
      "outputs": [
        {
          "output_type": "stream",
          "name": "stdout",
          "text": [
            "[0.68320148 0.14710126 0.10625599]\n"
          ]
        }
      ]
    },
    {
      "cell_type": "code",
      "source": [
        "print(pca.singular_values_)"
      ],
      "metadata": {
        "colab": {
          "base_uri": "https://localhost:8080/"
        },
        "id": "r6zCww6MCmh8",
        "outputId": "447dd02c-d763-4fa6-db59-19d3223af1bc"
      },
      "execution_count": null,
      "outputs": [
        {
          "output_type": "stream",
          "name": "stdout",
          "text": [
            "[13.27651998  6.16052958  5.23584227]\n"
          ]
        }
      ]
    },
    {
      "cell_type": "markdown",
      "source": [
        "## Визуализируем результат"
      ],
      "metadata": {
        "id": "kr4JV1hEDkU3"
      }
    },
    {
      "cell_type": "code",
      "source": [
        "Xax = components[:,0]\n",
        "Yax = components[:,1]\n",
        "Zax = components[:,2]"
      ],
      "metadata": {
        "id": "O9C_wgaICo3j"
      },
      "execution_count": null,
      "outputs": []
    },
    {
      "cell_type": "code",
      "source": [
        "fig = plt.figure(figsize=(14,9))\n",
        "ax = fig.add_subplot(111, projection='3d')\n",
        "\n",
        "ax.scatter(Xax, Yax, Zax, s=60)\n",
        "\n",
        "ax.set_xlabel(\"PC1\", fontsize=12)\n",
        "ax.set_ylabel(\"PC2\", fontsize=12)\n",
        "ax.set_zlabel(\"PC3\", fontsize=12)\n",
        "\n",
        "ax.view_init(30, 125)\n",
        "ax.legend()\n",
        "plt.title(\"3D PCA plot\")\n",
        "plt.show()"
      ],
      "metadata": {
        "colab": {
          "base_uri": "https://localhost:8080/",
          "height": 769
        },
        "id": "v7fnTloJDnNh",
        "outputId": "ee4318ce-ef7e-4c5d-99b2-bd103e4a2956"
      },
      "execution_count": null,
      "outputs": [
        {
          "output_type": "stream",
          "name": "stderr",
          "text": [
            "WARNING:matplotlib.legend:No artists with labels found to put in legend.  Note that artists whose label start with an underscore are ignored when legend() is called with no argument.\n"
          ]
        },
        {
          "output_type": "display_data",
          "data": {
            "text/plain": [
              "<Figure size 1400x900 with 1 Axes>"
            ],
            "image/png": "[encoded data removed]"
          },
          "metadata": {}
        }
      ]
    },
    {
      "cell_type": "markdown",
      "source": [
        "## PCA - 2 components"
      ],
      "metadata": {
        "id": "ant_39xkEXGZ"
      }
    },
    {
      "cell_type": "code",
      "source": [
        "pca = PCA(n_components=2)"
      ],
      "metadata": {
        "id": "sf1p8rv6EZ0P"
      },
      "execution_count": null,
      "outputs": []
    },
    {
      "cell_type": "code",
      "source": [
        "components = pca.fit_transform(df)"
      ],
      "metadata": {
        "id": "I_P3qHHrEZ0Q"
      },
      "execution_count": null,
      "outputs": []
    },
    {
      "cell_type": "code",
      "source": [
        "print(pca.explained_variance_ratio_)"
      ],
      "metadata": {
        "colab": {
          "base_uri": "https://localhost:8080/"
        },
        "outputId": "4c1e54e4-c51b-46c6-ca90-7f5482dbc0f5",
        "id": "RmH-sr-uEZ0R"
      },
      "execution_count": null,
      "outputs": [
        {
          "output_type": "stream",
          "name": "stdout",
          "text": [
            "[0.68320148 0.14710126]\n"
          ]
        }
      ]
    },
    {
      "cell_type": "code",
      "source": [
        "print(pca.singular_values_)"
      ],
      "metadata": {
        "colab": {
          "base_uri": "https://localhost:8080/"
        },
        "outputId": "a399d797-9d4f-4a49-8de8-7271e015f092",
        "id": "8EVJbxXCEZ0T"
      },
      "execution_count": null,
      "outputs": [
        {
          "output_type": "stream",
          "name": "stdout",
          "text": [
            "[13.27651998  6.16052958]\n"
          ]
        }
      ]
    },
    {
      "cell_type": "markdown",
      "source": [
        "## Визуализируем результат"
      ],
      "metadata": {
        "id": "tCUJM56FEeCb"
      }
    },
    {
      "cell_type": "code",
      "source": [
        "plt.scatter(components[:, 0], components[:, 1], alpha=0.5)\n",
        "plt.xlabel('Principal Component 1')\n",
        "plt.ylabel('Principal Component 2')\n",
        "plt.title('Data after PCA')\n",
        "plt.show()"
      ],
      "metadata": {
        "colab": {
          "base_uri": "https://localhost:8080/",
          "height": 472
        },
        "id": "uB42xB3IEcFX",
        "outputId": "b6af59d1-f071-4bd4-c8f5-a89c52b49b0f"
      },
      "execution_count": null,
      "outputs": [
        {
          "output_type": "display_data",
          "data": {
            "text/plain": [
              "<Figure size 640x480 with 1 Axes>"
            ],
            "image/png": "[encoded data removed]"
          },
          "metadata": {}
        }
      ]
    },
    {
      "cell_type": "markdown",
      "source": [
        "# PCA witn NumPy"
      ],
      "metadata": {
        "id": "KBFglGkVNlax"
      }
    },
    {
      "cell_type": "code",
      "source": [
        "cov_matrix = np.cov(df, rowvar=False)"
      ],
      "metadata": {
        "id": "hl1vbXXsNwTP"
      },
      "execution_count": null,
      "outputs": []
    },
    {
      "cell_type": "code",
      "source": [
        "eigen_values, eigen_vectors = np.linalg.eig(cov_matrix)"
      ],
      "metadata": {
        "id": "RfOAN2M2OfCO"
      },
      "execution_count": null,
      "outputs": []
    },
    {
      "cell_type": "code",
      "source": [
        "sorted_index = np.argsort(eigen_values)[::-1]\n",
        "sorted_eigenvalue = eigen_values[sorted_index]\n",
        "sorted_eigenvectors = eigen_vectors[:, sorted_index]"
      ],
      "metadata": {
        "id": "RnerA12wOhGu"
      },
      "execution_count": null,
      "outputs": []
    },
    {
      "cell_type": "code",
      "source": [
        "X_numpy = np.dot(df.to_numpy(), sorted_eigenvectors)"
      ],
      "metadata": {
        "id": "uG2aiSqVOiZ8"
      },
      "execution_count": null,
      "outputs": []
    },
    {
      "cell_type": "code",
      "source": [
        "plt.scatter(X_numpy[:, 0], X_numpy[:, 1], alpha=0.5)\n",
        "plt.xlabel('Principal Component 1')\n",
        "plt.ylabel('Principal Component 2')\n",
        "plt.title('Data after PCA using numpy')\n",
        "plt.show()"
      ],
      "metadata": {
        "colab": {
          "base_uri": "https://localhost:8080/",
          "height": 472
        },
        "id": "ORwExNbsNoCl",
        "outputId": "3f7a7018-0d36-4447-c059-435b487af830"
      },
      "execution_count": null,
      "outputs": [
        {
          "output_type": "display_data",
          "data": {
            "text/plain": [
              "<Figure size 640x480 with 1 Axes>"
            ],
            "image/png": "[encoded data removed]"
          },
          "metadata": {}
        }
      ]
    },
    {
      "cell_type": "code",
      "source": [],
      "metadata": {
        "id": "_tswxlS3OmTN"
      },
      "execution_count": null,
      "outputs": []
    }
  ]
}